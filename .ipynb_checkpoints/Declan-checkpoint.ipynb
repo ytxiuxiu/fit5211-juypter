{
 "cells": [
  {
   "cell_type": "markdown",
   "metadata": {
    "deletable": true,
    "editable": true
   },
   "source": [
    "# Instructions\n",
    "* You must work on this assignment individually.\n",
    "* This assignment contributes 20% towards your mark in FIT5211.\n",
    "* The subjects are graphs and spanning trees.\n",
    "* The exercises are roughly given by increasing difficulty.\n",
    "* You may use functions defined in any part of the assignment if that helps. It is thus strongly recommended to first complete Question 1, in case some of those algorithms happen to be useful later on.\n",
    "* You may create auxiliary/helper functions for each question, as long as you use the pre-defined function.\n",
    "* For this assignment, the assertions have not been provided. We strongly recommend you build your own assertions and include them in the notebook you will submit.\n",
    "* All answers in free text format (e.g. Question 3.a) must be justified.\n",
    "* The expected deliverable is this Jupyter Notebook, completed with your answers.\n",
    "* For questions on this assigment, please use the Moodle forum http://moodle.vle.monash.edu/mod/forum/view.php?id=3856505.\n",
    "* It is a university requirement (http://www.monash.edu/__data/assets/pdf_file/0008/801845/Student-Academic-Integrity_Managing-Plagiarism-and-Collusion-Procedures.pdf) to submit a coversheet (http://www.infotech.monash.edu.au/resources/student/forms/) for each assessment item. \n",
    "* The deadline is May 26, 23:59 via turnit-in: http://moodle.vle.monash.edu/mod/turnitintooltwo/view.php?id=4034860. There are two tabs: one for the Jupyter Notebook, one for the Coversheet (please upload a pdf). If this does not work, and only in this case, send your Notebook and coversheet to pierre.lebodic@monash.edu.\n",
    "* The late penalty is 10 marks per late day."
   ]
  },
  {
   "cell_type": "markdown",
   "metadata": {
    "deletable": true,
    "editable": true
   },
   "source": [
    "Throughout the assignment (Questions 1 and 3) we will use the following function to generate adjacency matrices of random graphs, and a dictionary to encode a graph. We generate a random graph with $n$ vertices, and where each edge has a chance of being generated with probability $p$ and with random weights. Edges are stored in a dictionary called $G$.\n",
    "\n",
    "Note that for a given seed, the graph that will be generated should always be the same, hence you can use the seed for testing and debugging purposes. Also note that for a given seed, the graph may change depending on your Python environment and machine."
   ]
  },
  {
   "cell_type": "code",
   "execution_count": 227,
   "metadata": {
    "collapsed": true,
    "deletable": true,
    "editable": true
   },
   "outputs": [],
   "source": [
    "maxedgeweight = 100"
   ]
  },
  {
   "cell_type": "markdown",
   "metadata": {
    "deletable": true,
    "editable": true
   },
   "source": [
    "NB (v1.1)"
   ]
  },
  {
   "cell_type": "code",
   "execution_count": 234,
   "metadata": {
    "collapsed": false,
    "deletable": true,
    "editable": true
   },
   "outputs": [],
   "source": [
    "import random\n",
    "def generateGraph(n, p, s):\n",
    "    random.seed(s)\n",
    "    G = {}\n",
    "    for i in range(0, n):\n",
    "        \n",
    "        r = (i + random.randint(1, n-1))%n\n",
    "        G[(min(i,r),max(i,r))] = random.randint(1, maxedgeweight)\n",
    "        for j in range(i+1, n):\n",
    "            if random.random() <= p and j != r:\n",
    "                G[(i,j)] = random.randint(1, maxedgeweight)\n",
    "    return G\n",
    "\n",
    "\n",
    "\n",
    "\n",
    "G = generateGraph(5, 0.5, 5)"
   ]
  },
  {
   "cell_type": "markdown",
   "metadata": {
    "deletable": true,
    "editable": true
   },
   "source": [
    "# Question 1: Simple Graph Operations [25 marks]"
   ]
  },
  {
   "cell_type": "markdown",
   "metadata": {
    "deletable": true,
    "editable": true
   },
   "source": [
    "## Question 1.a: Number of vertices [5 marks]"
   ]
  },
  {
   "cell_type": "markdown",
   "metadata": {
    "deletable": true,
    "editable": true
   },
   "source": [
    "#### Write a function that computes the number of vertices in $G$ (having only $G$ encoded as a dictionary at our disposal)"
   ]
  },
  {
   "cell_type": "code",
   "execution_count": 167,
   "metadata": {
    "collapsed": false,
    "deletable": true,
    "editable": true
   },
   "outputs": [],
   "source": [
    "\n",
    "def getN(G):\n",
    "    n = 0\n",
    "    keys = list(G.keys())\n",
    "    l = []\n",
    "    \n",
    "    for i in range(0, len(keys)):\n",
    "        ith = keys[i]\n",
    "        l.append(ith[0])\n",
    "        l.append(ith[1])\n",
    "    n = len(sorted(set(l)))\n",
    "    return n\n"
   ]
  },
  {
   "cell_type": "markdown",
   "metadata": {
    "deletable": true,
    "editable": true
   },
   "source": [
    "## Question 1.b: Graph printout [5 marks]"
   ]
  },
  {
   "cell_type": "markdown",
   "metadata": {
    "deletable": true,
    "editable": true
   },
   "source": [
    "#### Write a function that prints the (weighted) adjacency matrix of $G$, using a $0$ when no edge exists, and using the edge weight when an edge exists. Add an if statement at first to check that the graph is not too large for printing purposes."
   ]
  },
  {
   "cell_type": "code",
   "execution_count": 208,
   "metadata": {
    "collapsed": false,
    "deletable": true,
    "editable": true
   },
   "outputs": [],
   "source": [
    "def printGraph(G): #............\n",
    "    return \"\"\n"
   ]
  },
  {
   "cell_type": "markdown",
   "metadata": {
    "deletable": true,
    "editable": true
   },
   "source": [
    "## Question 1.c: Maximum Degree of a graph [5 marks]"
   ]
  },
  {
   "cell_type": "markdown",
   "metadata": {
    "deletable": true,
    "editable": true
   },
   "source": [
    "#### Write a function that computes the maximum degree of a vertex in $G$."
   ]
  },
  {
   "cell_type": "code",
   "execution_count": 209,
   "metadata": {
    "collapsed": false,
    "deletable": true,
    "editable": true
   },
   "outputs": [],
   "source": [
    "def maxDegree(G):\n",
    "    maxdegree = 0\n",
    "    keys = list(G.keys())\n",
    "    l = []\n",
    "    for i in range(len(keys)):\n",
    "        ith = keys[i]\n",
    "        l.append(ith[0])\n",
    "        l.append(ith[1])\n",
    "    la = sorted(set(l))\n",
    "    \n",
    "\n",
    "    tree = {}\n",
    "    \n",
    "    for v in la:\n",
    "        degree = 0\n",
    "        for i in la:\n",
    "            if (v, i) in G:\n",
    "                degree = degree + 1\n",
    "            else:\n",
    "                a=0\n",
    "        tree[v] = degree\n",
    "    maxdegree = max(tree.values())\n",
    "    return maxdegree\n",
    "\n"
   ]
  },
  {
   "cell_type": "markdown",
   "metadata": {
    "deletable": true,
    "editable": true
   },
   "source": [
    "#### In $O()$, what is the complexity of the algorithm you have written?"
   ]
  },
  {
   "cell_type": "markdown",
   "metadata": {
    "deletable": true,
    "editable": true
   },
   "source": [
    "The complexity is O(n*n), because there is a nested for loop, it takes up the major complexity."
   ]
  },
  {
   "cell_type": "markdown",
   "metadata": {
    "deletable": true,
    "editable": true
   },
   "source": [
    "## Question 1.d: Connectivity [10 marks]"
   ]
  },
  {
   "cell_type": "markdown",
   "metadata": {
    "deletable": true,
    "editable": true
   },
   "source": [
    "#### Write a function that returns the number of connected components of a graph $G$."
   ]
  },
  {
   "cell_type": "code",
   "execution_count": 232,
   "metadata": {
    "collapsed": false,
    "deletable": true,
    "editable": true
   },
   "outputs": [],
   "source": [
    "def countComponents(G):\n",
    "    components = 0\n",
    "    path=[] # to store all component which includs the first node\n",
    "    container = [] # to store all the components\n",
    "    \n",
    "    ### convert G to list\n",
    "    lg =[] # to be the list above\n",
    "    keys = list(G.keys())\n",
    "    size = len(keys)\n",
    "    \n",
    "    for i in range(size):\n",
    "        a = keys[i]\n",
    "        sl = []\n",
    "        sl.append(a[0])\n",
    "        sl.append(a[1])\n",
    "        lg.append(sl)\n",
    "    ###\n",
    "\n",
    "\n",
    "    def checkFromNode(n):\n",
    "         \n",
    "        for i in range(size):\n",
    "\n",
    "            for j in range(i+1, size):\n",
    "                ii = lg[i] \n",
    "                iN = lg[n]\n",
    "            \n",
    "                path.append(iN[0]) \n",
    "                path.append(iN[1])\n",
    "                if ii[0] in path or ii[1] in path: \n",
    "                    path.append(ii[0])\n",
    "                    path.append(ii[1])\n",
    "            \n",
    "                jj = lg[j]\n",
    "\n",
    "                if ii[0] == jj[0] or ii[1] == jj[1] or ii[0] == jj[1] or ii[1] == jj[0] or jj[0] in path or jj[1] in path:\n",
    "                    path.append(jj[0])\n",
    "                    path.append(jj[1])\n",
    "        \n",
    "\n",
    "       \n",
    "    checkFromNode(0)\n",
    "\n",
    "    for i in range(size):\n",
    "        ii = lg[i]\n",
    "        if ii[0] not in path and ii[1] not in path:\n",
    "            checkFromNode(i)\n",
    "    \n",
    "    if len(path) > 0:\n",
    "        components = len(container) + 1\n",
    "    else:\n",
    "        components = len(container)\n",
    "\n",
    "\n",
    "    return components"
   ]
  },
  {
   "cell_type": "markdown",
   "metadata": {
    "deletable": true,
    "editable": true
   },
   "source": [
    "#### In $O()$, what is the complexity of the algorithm you have written?"
   ]
  },
  {
   "cell_type": "markdown",
   "metadata": {
    "deletable": true,
    "editable": true
   },
   "source": [
    "It is is O(n*n), because there is a nested for loop, the outer loop excutes n times, the inner one excutes n-1 times."
   ]
  },
  {
   "cell_type": "markdown",
   "metadata": {
    "deletable": true,
    "editable": true
   },
   "source": [
    "# Question 2: Markovian Cowboys [35 marks]"
   ]
  },
  {
   "cell_type": "markdown",
   "metadata": {
    "deletable": true,
    "editable": true
   },
   "source": [
    "Three cowboys are having a gunfight and are ready to shoot each other. They all shoot simultaneously and repeatidly, by rounds, for as long as they have not been hit. For the purpose of this exercise, we suppose that ammunition is not limited and that this truel can only end when one or zero cowboy is left standing. They are not equally gifted with a six-shooter (but in our case, it really is a $\\infty$-shooter), and they are not at equal distance, thus their chances of hitting each other are not equal:\n",
    "\n",
    "* Cowboy A has probabilty $p_{AB}=.35$ of hitting cowboy B and $p_{AC}=.30$ of hitting cowboy C.\n",
    "* Cowboy B has probabilty $p_{BA}=.25$ of hitting cowboy A and $p_{BC}=.15$ of hitting cowboy C.\n",
    "* Cowboy C has probabilty $p_{CA}=.10$ of hitting cowboy A and $p_{CB}=.20$ of hitting cowboy B.\n",
    "\n",
    "While the three cowboys are still standing, each one of then will try to shoot the cowboy that has the highest probability of hitting them, therefore:\n",
    "\n",
    "* A will shoot at B until one of the two falls.\n",
    "* B will shoot at A until one of the two falls.\n",
    "* C will shoot at A until one of the two falls.\n",
    "\n",
    "Note that since C is not very dangerous, nobody bothers shooting at him first.\n",
    "If after a round of shooting, two cowboys remain, they shoot at each other unconditionally (and mercilessly).\n",
    "Since the cowboys all shoot once during a round, it is possible that 1 or 2 cowboys get hit simultaneously. Thus it is possible that no one remains at the end of the truel.\n",
    "\n",
    "We would like to determine numerically the probabilities of winning the gunfight for each cowboy, as well as the probability that no one wins. The possible states of the truel are:\n",
    "\n",
    "* State $S_0$: A, B and C are standing (and shooting each other, therefore the gunfight is ongoing).\n",
    "* State $S_1$: A and B are standing (and shooting each other, therefore the gunfight is ongoing).\n",
    "* State $S_2$: A and C are standing (and shooting each other, therefore the gunfight is ongoing).\n",
    "* State $S_3$: B and C are standing (and shooting each other, therefore the gunfight is ongoing).\n",
    "* State $S_4$: A only is standing (therefore the gunfight is over).\n",
    "* State $S_5$: B only is standing (therefore the gunfight is over).\n",
    "* State $S_6$: C only is standing (therefore the gunfight is over).\n",
    "* State $S_7$: nobody is standing (therefore the gunfight is over)."
   ]
  },
  {
   "cell_type": "markdown",
   "metadata": {
    "deletable": true,
    "editable": true
   },
   "source": [
    "## Question 2.a: Transition graph between states. [5 marks]"
   ]
  },
  {
   "cell_type": "markdown",
   "metadata": {
    "deletable": true,
    "editable": true
   },
   "source": [
    "We would like to create a directed graph to represent the possible transitions between states. In this graph, vertices will represent states, and arcs will represent possible transitions between states. For example, there is an arc between $S_0$ and $S_2$, which corresponds to the case where $B$ gets shot, and no one else gets shot during the same round. There also is an arc from $S_0$ to itself, as it is possible that for a round or more, everyone misses. However, there is no arc from $S_0$ to $S_1$, as it is not possible for C to get shot at state $S_0$ since no one is shooting at him at this point."
   ]
  },
  {
   "cell_type": "markdown",
   "metadata": {
    "deletable": true,
    "editable": true
   },
   "source": [
    "#### Give the transition graph in the following format to indicate which transitions are possible (and thus $S_0 -> S_1$ should not appear in this list as it is not a possible transition)."
   ]
  },
  {
   "cell_type": "markdown",
   "metadata": {
    "deletable": true,
    "editable": true
   },
   "source": [
    "$S_0 -> S_0$\n",
    "\n",
    "$S_0 -> S_2$\n",
    "\n",
    "\n",
    "\n",
    "\n",
    "$S_0 -> S_3$\n",
    "\n",
    "$S_0 -> S_6$\n",
    "\n",
    "$S_2 -> S_2$\n",
    "\n",
    "$S_3 -> S_3$\n",
    "\n",
    "$S_2 -> S_4$\n",
    "\n",
    "$S_2 -> S_6$\n",
    "\n",
    "$S_2 -> S_7$\n",
    "\n",
    "$S_3 -> S_5$\n",
    "\n",
    "$S_3 -> S_6$\n",
    "\n",
    "$S_3 -> S_7$\n",
    "\n",
    "\n",
    "\n"
   ]
  },
  {
   "cell_type": "markdown",
   "metadata": {
    "deletable": true,
    "editable": true
   },
   "source": [
    "#### By reading this graph, how can one determine for which states the gunfight is over?"
   ]
  },
  {
   "cell_type": "markdown",
   "metadata": {
    "deletable": true,
    "editable": true
   },
   "source": [
    "From the graph above, we can see that there are transitions from states like S_0, S_2, S_3 to other states as well as themselves, they can also end at S_4, S_5, S_6, S_7 states, but there are no transitions from S_4, S_5, S_6, S_7 to other states, S_1 is not present in the graph above. \n",
    "So we can know that gunfight ends at S_4, S_5, S_6, S_7 states. "
   ]
  },
  {
   "cell_type": "markdown",
   "metadata": {
    "deletable": true,
    "editable": true
   },
   "source": [
    "## Question 2.b: Probabilities of transition [5 marks]"
   ]
  },
  {
   "cell_type": "markdown",
   "metadata": {
    "deletable": true,
    "editable": true
   },
   "source": [
    "#### After answering question 2.a, we are now interested in the probabilities that the gunfight will move from one state to another. Copy the list of arcs you have found at question 2.a and indicate on the side the value of this probability."
   ]
  },
  {
   "cell_type": "markdown",
   "metadata": {
    "deletable": true,
    "editable": true
   },
   "source": [
    "$S_0 -> S_0$ $p_{00}= (1 - p_{AB}) * (1 - p_{BA}) * (1 - p_{CA}) = .65 * .75 * .9 = 0.43875$\n",
    "\n",
    "$S_0 -> S_2$ $p_{02}= (1 - p_{CA}) * p_{AB} * (1 - p_{BA}) = 0.9 * 0.35 * 0.75 = 0.23625$\n",
    "\n",
    "\n",
    "\n",
    "\n",
    "\n",
    "\n",
    "\n",
    "\n",
    "$S_0 -> S_3$ $p_{03}= (1 - p_{AB}) * (1 - p_{BA}) * p_{CA} \n",
    "                     + (1 - p_{AB}) * p_{BA} * p_{CA} \n",
    "                     + (1 - p_{AB}) * p_{BA} * (1 - p_{CA}) \n",
    "                    = 0.65 * 0.75 * 0.1 + 0.65 * 0.25 * 0.1 + 0.65 * 0.25 * 0.9\n",
    "                    = 0.21125$ \n",
    "\n",
    "$S_0 -> S_6$ $p_{06}= p_{AB} * p_{CA}* p_{BA} \n",
    "                     + p_{AB} * (1 - p_{CA}) * p_{BA}\n",
    "                     + p_{AB} * p_{CA} * (1 - p_{BA}) \n",
    "                    = 0.35 * 0.1 * 0.25 + 0.35 * 0.9 * 0.25 + 0.35 * 0.1 * 0.75 \n",
    "                    = 0.11375$\n",
    "\n",
    "$S_2 -> S_2$ $p_{22}= (1 - p_{AC}) * (1 - p_{CA}) = 0.7 * 0.9 = 0.63$\n",
    "\n",
    "$S_3 -> S_3$ $p_{33}= (1 - p_{BC}) * (1 - p_{CB}) = 0.85 * 0.8 = 0.68$\n",
    "\n",
    "$S_2 -> S_4$ $p_{24}= p_{AC} * (1 - p_{CA}) = 0.3 * 0.9 = 0.27$\n",
    "\n",
    "$S_2 -> S_6$ $p_{26}= (1 - p_{AC}) * p_{CA} = 0.7 * 0.1 = 0.07$\n",
    "\n",
    "$S_2 -> S_7$ $p_{27}= p_{AC} * p_{CA} = 0.3 * 0.1 = 0.03$\n",
    "\n",
    "$S_3 -> S_5$ $p_{35}= p_{BC} * (1 - p_{CB}) = 0.15 * 0.8 = 0.12$\n",
    "\n",
    "$S_3 -> S_6$ $p_{36}= p_{CB} * (1 - p_{BC}) = 0.2 * 0.85 = 0.17$\n",
    "\n",
    "$S_3 -> S_7$ $p_{37}= p_{BC} * p_{CB} = 0.15 * 0.2 = 0.03$\n"
   ]
  },
  {
   "cell_type": "markdown",
   "metadata": {
    "deletable": true,
    "editable": true
   },
   "source": [
    "(Hence the probability to stay at state $S_0$ for the ongoing round is $p_{00} = 0.43875$.)\n",
    "\n",
    "(Hence the probability from state $S_0$ to state $S_2$ for the ongoing round is $p_{02} = 0.23625$.)\n",
    "\n",
    "(Hence the probability from state $S_0$ to state $S_3$ for the ongoing round is $p_{03} = 0.21125$.)\n",
    "\n",
    "(Hence the probability from state $S_0$ to state $S_6$ (Then the gunfight ends) is $p_{06} = 0.11375$.)\n",
    "\n",
    "(Hence the probability to stay at state $S_2$ for the ongoing round is $p_{22} = 0.63$.)\n",
    "\n",
    "(Hence the probability to stay at state $S_3$ for the ongoing round is $p_{33} = 0.68$.)\n",
    "\n",
    "(Hence the probability from state $S_2$ to state $S_4$ (Then the gunfight ends) is $p_{24} = 0.27$.)\n",
    "\n",
    "(Hence the probability from state $S_2$ to state $S_6$ (Then the gunfight ends) is $p_{26} = 0.07$.)\n",
    "\n",
    "(Hence the probability from state $S_2$ to state $S_7$ (Then the gunfight ends) is $p_{27} = 0.03$.)\n",
    "\n",
    "\n",
    "(Hence the probability from state $S_3$ to state $S_5$ (Then the gunfight ends) is $p_{35} = 0.12$.)\n",
    "\n",
    "(Hence the probability from state $S_3$ to state $S_6$ (Then the gunfight ends) is $p_{36} = 0.17$.)\n",
    "\n",
    "(Hence the probability from state $S_3$ to state $S_7$ (Then the gunfight ends) is $p_{37} = 0.03$.)\n",
    "\n",
    "\n",
    "\n",
    "\n"
   ]
  },
  {
   "cell_type": "markdown",
   "metadata": {
    "deletable": true,
    "editable": true
   },
   "source": [
    "## Question 2.c: Input of the graph [5 marks]"
   ]
  },
  {
   "cell_type": "markdown",
   "metadata": {
    "deletable": true,
    "editable": true
   },
   "source": [
    "#### Create a graph $G$ in a format of your choosing to encode the transition graph representing the gunfight."
   ]
  },
  {
   "cell_type": "code",
   "execution_count": 188,
   "metadata": {
    "collapsed": false,
    "deletable": true,
    "editable": true
   },
   "outputs": [],
   "source": [
    "\n",
    "G= {}\n",
    "G[\"S0\"] = [ [\"S0\",0.43875],[\"S2\",0.23625],[\"S3\",0.21125],[\"S6\",0.11375]]\n",
    "G[\"S2\"] = [ [\"S2\",0.63],[\"S4\",0.27],[\"S6\",0.07],[\"S7\",0.03]]\n",
    "G[\"S3\"] = [ [\"S3\",0.68],[\"S5\",0.12],[\"S6\",0.17],[\"S7\",0.03]]\n",
    "\n",
    "\n"
   ]
  },
  {
   "cell_type": "markdown",
   "metadata": {
    "deletable": true,
    "editable": true
   },
   "source": [
    "If you have not answered question 2.b, you can use random or arbitrary values for the transition probabilities without losing any points for question 2.c and below. However, make sure that the sum of the transition probabilities from each non-final state is equal to 1."
   ]
  },
  {
   "cell_type": "markdown",
   "metadata": {
    "deletable": true,
    "editable": true
   },
   "source": [
    "## Question 2.d: Gunfight Simulation [10 marks]"
   ]
  },
  {
   "cell_type": "markdown",
   "metadata": {
    "deletable": true,
    "editable": true
   },
   "source": [
    "#### Write a function that simulates one gunfight, i.e. a succession of rounds that ends when the current state is one of the final states, $S_4$, $S_5$, $S_6$ or $S_7$. Return the final state/vertex."
   ]
  },
  {
   "cell_type": "code",
   "execution_count": 235,
   "metadata": {
    "collapsed": false,
    "deletable": true,
    "editable": true
   },
   "outputs": [],
   "source": [
    "\n",
    "def gunfightSimulation(G):\n",
    "    fromS0 = G[\"S0\"]\n",
    "    fromS2 = G[\"S2\"]\n",
    "    fromS3 = G[\"S3\"]\n",
    "    whichState = \"s0\"\n",
    "\n",
    "    while (whichState == \"s0\"):\n",
    "        n = random.uniform(0, 1)\n",
    "        \n",
    "                \n",
    "        if 0<= n < 0.11375:\n",
    "            l=fromS0[3]\n",
    "            return [\"S0\", l[0], l[1]]\n",
    "        \n",
    "            \n",
    "        if 0.11375 <= n and  n < 0.325:\n",
    "            whichState = \"s3\"\n",
    "            \n",
    "           \n",
    "        if 0.325 <= n and  n < 0.56125:\n",
    "            whichState = \"s2\"\n",
    "\n",
    "            \n",
    "        if 0.56125 <= n and  n  <= 1:\n",
    "            whichState = \"s0\"\n",
    "\n",
    "            \n",
    "    while (whichState == \"s2\"):\n",
    "        n = random.uniform(0, 1)\n",
    "\n",
    "                    \n",
    "        if n < 0.03:\n",
    "            l=fromS2[3]\n",
    "            return [\"S2\", l[0], l[1]]\n",
    "        \n",
    "             \n",
    "        if 0.03 <= n and  n < 0.1:\n",
    "            l=fromS2[2]\n",
    "            return [\"S2\", l[0], l[1]]\n",
    "            \n",
    "            \n",
    "        if 0.1 <= n and  n < 0.37:\n",
    "            l=fromS2[1]\n",
    "            return [\"S2\", l[0], l[1]]\n",
    "\n",
    "            \n",
    "        if 0.37 <= n and  n  <= 1:\n",
    "            whichState = \"s2\"\n",
    "\n",
    "\n",
    "\n",
    "\n",
    "            \n",
    "\n",
    "    while (whichState == \"s3\"):\n",
    "\n",
    "        n = random.uniform(0, 1)\n",
    "\n",
    "                   \n",
    "        if n < 0.03:\n",
    "            l=fromS3[3]\n",
    "            return [\"S3\", l[0], l[1]]\n",
    "        \n",
    "             \n",
    "        if 0.03 <= n and  n < 0.2:\n",
    "            l=fromS3[2]\n",
    "            return [\"S3\", l[0], l[1]]\n",
    "            \n",
    "            \n",
    "        if 0.2 <= n and  n < 0.32:\n",
    "            l=fromS3[1]\n",
    "            return [\"S3\", l[0], l[1]]\n",
    "\n",
    "           \n",
    "        if 0.32 <= n and  n  <= 1:\n",
    "            whichState = \"s3\"\n",
    "            \n",
    "            \n",
    "            \n",
    "\n",
    "\n"
   ]
  },
  {
   "cell_type": "markdown",
   "metadata": {
    "deletable": true,
    "editable": true
   },
   "source": [
    "## Question 2.e: Endless Gunfights [5 marks]"
   ]
  },
  {
   "cell_type": "markdown",
   "metadata": {
    "deletable": true,
    "editable": true
   },
   "source": [
    "#### Now that we can simulate a gunfight (question 2.d), we would like to know with precision what are the probabilities of each possible outcome of the gunfight. Write an iterative loop that computes the probabilities of the possible final states by calling the function gunfightSimulation for a sufficient number of simulations, until the precision of the probabilities is satisfactory. You can also try to answer this question if you have not answered 2.d."
   ]
  },
  {
   "cell_type": "code",
   "execution_count": 212,
   "metadata": {
    "collapsed": false,
    "deletable": true,
    "editable": true
   },
   "outputs": [],
   "source": [
    "def displayFinalStateProbabilities(G, samples):\n",
    "    countS0S6=0\n",
    "    countS2S4=0\n",
    "    countS2S6=0\n",
    "    countS2S7=0\n",
    "    countS3S5=0\n",
    "    countS3S6=0\n",
    "    countS3S7=0\n",
    "    \n",
    "    for i in range(samples):\n",
    "        l = gunfightSimulation(G)\n",
    "        if l[0] == \"S0\" and l[1] == \"S6\":\n",
    "            countS0S6 = countS0S6 + 1\n",
    "        if l[0] == \"S2\" and l[1] == \"S4\":\n",
    "            countS2S4 = countS2S4 + 1\n",
    "        if l[0] == \"S2\" and l[1] == \"S6\":\n",
    "            countS2S6 = countS2S6 + 1\n",
    "        if l[0] == \"S2\" and l[1] == \"S7\":\n",
    "            countS2S7 = countS2S7 + 1\n",
    "        if l[0] == \"S3\" and l[1] == \"S5\":\n",
    "            countS3S5 = countS3S5 + 1\n",
    "        if l[0] == \"S3\" and l[1] == \"S6\":\n",
    "            countS3S6 = countS3S6 + 1\n",
    "        if l[0] == \"S3\" and l[1] == \"S7\":\n",
    "            countS3S7 = countS3S7 + 1\n",
    "\n",
    "    print(\"countS0S6:should be 0.11375, actual: \",countS0S6/samples)\n",
    "    print(\"countS2S4:should be 0.27, actual: \",countS2S4/samples) \n",
    "    print(\"countS2S6:should be 0.07, actual: \",countS2S6/samples) \n",
    "    print(\"countS2S7:should be 0.03, actual: \",countS2S7/samples) \n",
    "    print(\"countS3S5:should be 0.12, actual: \",countS3S5/samples) \n",
    "    print(\"countS3S6:should be 0.17, actual: \",countS3S6/samples) \n",
    "    print(\"countS3S7:should be 0.03, actual: \",countS3S7/samples)  \n",
    "   \n",
    "\n"
   ]
  },
  {
   "cell_type": "markdown",
   "metadata": {
    "deletable": true,
    "editable": true
   },
   "source": [
    "#### How many samples did you find were necessary in question 2.d to obtain a good precision?"
   ]
  },
  {
   "cell_type": "markdown",
   "metadata": {
    "deletable": true,
    "editable": true
   },
   "source": [
    "When setting samples at 100 and over, I can obtain a good precision, because the actual \n",
    "rates are very close to those in G in Q2C, So 100 is necessary to obtain a good precision "
   ]
  },
  {
   "cell_type": "markdown",
   "metadata": {
    "deletable": true,
    "editable": true
   },
   "source": [
    "## Question 2.f: Simplification of $G$ [5 marks]"
   ]
  },
  {
   "cell_type": "markdown",
   "metadata": {
    "deletable": true,
    "editable": true
   },
   "source": [
    "#### Propose a simplification of the graph $G$ that allows a speed-up of 2.d (and thus 2.e), and such that the probability to end at each final state is unchaged."
   ]
  },
  {
   "cell_type": "markdown",
   "metadata": {
    "deletable": true,
    "editable": true
   },
   "source": [
    "The graph in Q2.c is {'S0': [['S0', 0.43875], ['S2', 0.23625], ['S3', 0.21125], ['S6', 0.11375]], \n",
    "'S2': [['S2', 0.63], ['S4', 0.27], ['S6', 0.07], ['S7', 0.03]], \n",
    "'S3': [['S3', 0.68], ['S5', 0.12], ['S6', 0.17], ['S7', 0.03]]},\n",
    "\n",
    "If we change ['S0', 0.43875] to 0.00043875, ['S2', 0.23625] to 0.22223625, ['S3', 0.21125] to 0.33321125 and so on , it changes a list of lists to a list. It simplies the structure, so it is faster. \n",
    "\n",
    "(Then if we want to use these numbers in 2.d and 2.e, we can write it directly to a right format.)\n"
   ]
  },
  {
   "cell_type": "markdown",
   "metadata": {
    "deletable": true,
    "editable": true
   },
   "source": [
    "# Question 3: Minimum-Cost Spanning Tree with Bounded Degree (MCSTBD) [40 marks]"
   ]
  },
  {
   "cell_type": "markdown",
   "metadata": {
    "deletable": true,
    "editable": true
   },
   "source": [
    "An MCST with bounded degree $k$ is a minimum-cost spanning tree such that no vertex of the tree has degree $> k$, for some given $k$ that satisfies $n>k>0$. See https://en.wikipedia.org/wiki/Degree-constrained_spanning_tree."
   ]
  },
  {
   "cell_type": "markdown",
   "metadata": {
    "deletable": true,
    "editable": true
   },
   "source": [
    "## Question 3.a: Applicability of the algorithms that work for MCST [5 marks]"
   ]
  },
  {
   "cell_type": "markdown",
   "metadata": {
    "deletable": true,
    "editable": true
   },
   "source": [
    "#### If we ran an algorithm for MCST and obtained a solution (which would be optimal), under what condition(s) would this solution be feasible (i.e. acceptable) for MCSTBD?"
   ]
  },
  {
   "cell_type": "markdown",
   "metadata": {
    "deletable": true,
    "editable": true
   },
   "source": [
    "This obtained solution is a MCST (we note it as S), not an approach.\n",
    "\n",
    "If we want S works for MCSTBD, we need to make sure all the edges in S are also present in that Spanning Tree with Bounded Degree, because if the Spanning Tree with Bounded Degree lacks some edges which exists in the S, we cannot generate the same S in this Spanning Tree with Bounded Degree.\n",
    "\n",
    "So the condition is: in this k degree bounded tree, all the edges of solution MCST S still exists in this k degree bounded tree when looking for a spanning tree."
   ]
  },
  {
   "cell_type": "markdown",
   "metadata": {
    "deletable": true,
    "editable": true
   },
   "source": [
    "#### If an optimal solution to MCST was feasible for MCSTBD, would it also be optimal for MCSTBD?"
   ]
  },
  {
   "cell_type": "markdown",
   "metadata": {
    "deletable": true,
    "editable": true
   },
   "source": [
    " Yes, since optimal solution S is a minimum cost subtree, there are not any other subtrees with less cost, if S also exists in a k degree bounded tree, it still has minimum cost. So it is optimal."
   ]
  },
  {
   "cell_type": "markdown",
   "metadata": {
    "deletable": true,
    "editable": true
   },
   "source": [
    "#### If an optimal solution to MCST was not feasible for MCSTBD, what could its weight (i.e. value) tell us about the weight of any feasible solution for MCSTBD?"
   ]
  },
  {
   "cell_type": "markdown",
   "metadata": {
    "deletable": true,
    "editable": true
   },
   "source": [
    "Then the weight of any feasible solution for MCSTBD will be higher than the weight of this solution "
   ]
  },
  {
   "cell_type": "markdown",
   "metadata": {
    "deletable": true,
    "editable": true
   },
   "source": [
    "## Question 3.b: Any algorithm for MCST [10 marks]"
   ]
  },
  {
   "cell_type": "markdown",
   "metadata": {
    "deletable": true,
    "editable": true
   },
   "source": [
    "#### Choose an algorithm (e.g., but not limited to, Prim or Kruskal), that solves MCST, and implement it. We will want this algorithm to be as fast as possible, thus you are allowed to also define and use a data structure that is different than the dictionary data structure given above. However, you must be able to read a dictionary and convert it into your own data structure. "
   ]
  },
  {
   "cell_type": "code",
   "execution_count": 236,
   "metadata": {
    "collapsed": false,
    "deletable": true,
    "editable": true
   },
   "outputs": [
    {
     "name": "stdout",
     "output_type": "stream",
     "text": [
      "<__main__.Graph object at 0x1046bdcc0>\n",
      "2 - 3 : 4\n",
      "0 - 3 : 5\n",
      "0 - 1 : 10\n"
     ]
    }
   ],
   "source": [
    "class Graph:\n",
    "\n",
    "    def __init__(self,vertices):\n",
    "        self.V= vertices      \n",
    "        self.graph = []          \n",
    "\n",
    "    def addEdge(self,u,v,w):\n",
    "        self.graph.append([u,v,w])\n",
    "\n",
    "    def find(self, parent, i):\n",
    "        if parent[i] == i:\n",
    "            return i\n",
    "        return self.find(parent, parent[i])\n",
    "    def union(self, parent, rank, a, b):\n",
    "        xroot = self.find(parent, a)\n",
    "        yroot = self.find(parent, b)\n",
    "        if rank[xroot] < rank[yroot]:\n",
    "            parent[xroot] = yroot\n",
    "        elif rank[xroot] > rank[yroot]:\n",
    "            parent[yroot] = xroot\n",
    "        else :\n",
    "            parent[yroot] = xroot\n",
    "            rank[xroot] += 1\n",
    "            \n",
    "\n",
    "    def solveMCST(self):\n",
    "\n",
    "        result =[] \n",
    "\n",
    "        i = 0\n",
    "        e = 0 \n",
    "\n",
    "        self.graph = sorted(self.graph,key=lambda item: item[2])\n",
    "\n",
    "\n",
    "        parent = []\n",
    "        rank = []\n",
    "        \n",
    "        for node in range(self.V):\n",
    "            parent.append(node)\n",
    "            rank.append(0)\n",
    "        \n",
    "        while e < self.V -1 :\n",
    "\n",
    "            u,v,w = self.graph[i]\n",
    "            i = i + 1\n",
    "            x = self.find(parent, u)\n",
    "            y = self.find(parent ,v)\n",
    "        \n",
    "            if x != y:\n",
    "                e = e + 1\n",
    "                result.append([u,v,w])\n",
    "                self.union(parent, rank, x, y)\t\t \n",
    "\n",
    "\n",
    "        for u,v,weight in result:\n",
    "\n",
    "            print (\"%d - %d : %d\" % (u,v,weight))\n",
    "\n",
    "graph = Graph(4)\n",
    "graph.addEdge(0, 3, 5)\n",
    "graph.addEdge(1, 3, 15)\n",
    "graph.addEdge(2, 3, 4)\n",
    "graph.addEdge(0, 1, 10)\n",
    "graph.addEdge(0, 2, 6)\n",
    "print(graph)\n",
    "\n",
    "\n",
    "graph.solveMCST()"
   ]
  },
  {
   "cell_type": "markdown",
   "metadata": {
    "deletable": true,
    "editable": true
   },
   "source": [
    "## Question 3.c: Divide-and-Conquer for MCSTBD [15 marks]"
   ]
  },
  {
   "cell_type": "markdown",
   "metadata": {
    "deletable": true,
    "editable": true
   },
   "source": [
    "#### Write a divide-and-conquer algorithm that solves MCSTBD to optimality. At each recursive call, call the function solveMCST to obtain an MCST, which will help decide if and how to further recurse. Check if the MCST given by solveMCST is a valid solution to MCSTBD. If so, this is the base case, and there is no need to further recurse. Otherwise, choose a vertex $v$ such that $degree(v) > k$ in the MCST solution. For each edge $e$ incident to $v$ and currently in the MCST solution, make a recursive call where this edge cannot be selected to be part of a spanning tree (how to handle and store this information is for you to decide)."
   ]
  },
  {
   "cell_type": "code",
   "execution_count": null,
   "metadata": {
    "collapsed": false,
    "deletable": true,
    "editable": true
   },
   "outputs": [],
   "source": [
    "def solveMCSTBD(G, ...):\n",
    "    #............"
   ]
  },
  {
   "cell_type": "markdown",
   "metadata": {
    "deletable": true,
    "editable": true
   },
   "source": [
    "#### In $O()$, what is the complexity of the algorithm you have written?"
   ]
  },
  {
   "cell_type": "markdown",
   "metadata": {
    "deletable": true,
    "editable": true
   },
   "source": [
    "(type your answer here)"
   ]
  },
  {
   "cell_type": "markdown",
   "metadata": {
    "deletable": true,
    "editable": true
   },
   "source": [
    "#### What is the maximum size $n$ of the graph for which your procedure can terminate within ~5 seconds for $p=.2$ (the probability for each edge to be generated) and $k=5$?"
   ]
  },
  {
   "cell_type": "markdown",
   "metadata": {
    "deletable": true,
    "editable": true
   },
   "source": [
    "(type your answer here)"
   ]
  },
  {
   "cell_type": "markdown",
   "metadata": {
    "deletable": true,
    "editable": true
   },
   "source": [
    "## Question 3.d: Improved Divide-and-Conquer for MCSTBD [10 marks]"
   ]
  },
  {
   "cell_type": "markdown",
   "metadata": {
    "deletable": true,
    "editable": true
   },
   "source": [
    "#### Describe how the weight of the tree found by solveMCST could be of use to a divide-and-conquer algorithm for MCSTBD."
   ]
  },
  {
   "cell_type": "markdown",
   "metadata": {
    "deletable": true,
    "editable": true
   },
   "source": [
    "(type your answer here)"
   ]
  },
  {
   "cell_type": "markdown",
   "metadata": {
    "deletable": true,
    "editable": true
   },
   "source": [
    "#### Implement this idea below."
   ]
  },
  {
   "cell_type": "code",
   "execution_count": null,
   "metadata": {
    "collapsed": false,
    "deletable": true,
    "editable": true
   },
   "outputs": [],
   "source": [
    "def improvedSolveMCSTBD(G, ...):\n",
    "    #............"
   ]
  },
  {
   "cell_type": "markdown",
   "metadata": {
    "deletable": true,
    "editable": true
   },
   "source": [
    "#### In $O()$, what is the complexity of the algorithm you have written?"
   ]
  },
  {
   "cell_type": "markdown",
   "metadata": {
    "deletable": true,
    "editable": true
   },
   "source": [
    "(type your answer here)"
   ]
  },
  {
   "cell_type": "markdown",
   "metadata": {
    "deletable": true,
    "editable": true
   },
   "source": [
    "#### What is the maximum size $n$ of the graph for which your procedure can terminate within ~5 seconds for $p=.2$ and $k=5$?"
   ]
  },
  {
   "cell_type": "markdown",
   "metadata": {
    "deletable": true,
    "editable": true
   },
   "source": [
    "(type your answer here)"
   ]
  }
 ],
 "metadata": {
  "kernelspec": {
   "display_name": "Python 3",
   "language": "python",
   "name": "python3"
  },
  "language_info": {
   "codemirror_mode": {
    "name": "ipython",
    "version": 3
   },
   "file_extension": ".py",
   "mimetype": "text/x-python",
   "name": "python",
   "nbconvert_exporter": "python",
   "pygments_lexer": "ipython3",
   "version": "3.6.0"
  }
 },
 "nbformat": 4,
 "nbformat_minor": 2
}
