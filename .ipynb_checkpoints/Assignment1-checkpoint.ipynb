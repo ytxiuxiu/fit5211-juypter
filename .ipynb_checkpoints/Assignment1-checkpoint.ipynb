{
 "cells": [
  {
   "cell_type": "markdown",
   "metadata": {
    "deletable": true,
    "editable": true
   },
   "source": [
    "## 1 Point Class\n",
    "Use the ADT class for points in 2-dimensional Euclidean space discussed in the lecture in Week 1\n",
    "(see lecture notes), and extend the class this with a distance function for pairwise Manhattan\n",
    "distance."
   ]
  },
  {
   "cell_type": "code",
   "execution_count": 166,
   "metadata": {
    "collapsed": false,
    "deletable": true,
    "editable": true
   },
   "outputs": [
    {
     "name": "stdout",
     "output_type": "stream",
     "text": [
      "test init\n",
      "test distance to\n",
      "test manhattan distance to\n",
      "test repr\n"
     ]
    }
   ],
   "source": [
    "import math\n",
    "\n",
    "class Point:\n",
    "    \n",
    "    def __init__(self, x, y):\n",
    "        self._x = x\n",
    "        self._y = y\n",
    "        \n",
    "    @property\n",
    "    def x(self):\n",
    "        return self._x\n",
    "\n",
    "    @x.setter\n",
    "    def x(self, value):\n",
    "        self._x = value\n",
    "        \n",
    "    @property\n",
    "    def y(self):\n",
    "        return self._y\n",
    "\n",
    "    @y.setter\n",
    "    def y(self, value):\n",
    "        self._y = value\n",
    "        \n",
    "    def distanceTo(self, other):\n",
    "        return math.sqrt(math.pow(other.x - self.x, 2) + math.pow(other.y - self.y, 2))\n",
    "    \n",
    "    def manhattanDistanceTo(self, other):\n",
    "        return abs(other.x - self.x) + abs(other.y - self.y)\n",
    "        \n",
    "    def __repr__(self):\n",
    "        return '({}, {})'.format(self._x, self._y)\n",
    "    \n",
    "    \n",
    "# Unit Test\n",
    "\n",
    "point = Point(1, 2)\n",
    "\n",
    "print('test init')\n",
    "assert point.x == 1\n",
    "assert point.y == 2\n",
    "\n",
    "print('test distance to')\n",
    "assert point.distanceTo(Point(5, 2)) == 4\n",
    "\n",
    "print('test manhattan distance to')\n",
    "assert point.manhattanDistanceTo(Point(5, 3)) == 5\n",
    "\n",
    "print('test repr')\n",
    "assert point.__repr__() == '(1, 2)'"
   ]
  },
  {
   "cell_type": "markdown",
   "metadata": {
    "deletable": true,
    "editable": true
   },
   "source": [
    "## 2 Point Set Class\n",
    "Based on this point class, implement an ADT class that models a point set. It will need a\n",
    "constructor as well as functions to insert and delete points in the set (you do not need to\n",
    "implement union, intersection, or other set operations at this point)."
   ]
  },
  {
   "cell_type": "code",
   "execution_count": 167,
   "metadata": {
    "collapsed": false,
    "deletable": true,
    "editable": true
   },
   "outputs": [
    {
     "name": "stdout",
     "output_type": "stream",
     "text": [
      "test init\n",
      "test insert\n",
      "test cons\n",
      "test delete\n",
      "test first\n",
      "test rest\n"
     ]
    }
   ],
   "source": [
    "class PointSet:\n",
    "    \n",
    "    def __init__(self, value = None):\n",
    "        # http://effbot.org/zone/default-values.htm\n",
    "        if not value:\n",
    "            self._points = []\n",
    "        else:\n",
    "            self._points = value\n",
    "        \n",
    "    def cons(self, point):\n",
    "        return PointSet([point] + self._points)\n",
    "        \n",
    "    def insert(self, point):\n",
    "        self._points.append(point)\n",
    "        \n",
    "    def delete(self, i):\n",
    "        del self._points[i]\n",
    "        \n",
    "    def isEmpty(self):\n",
    "        return self._points == []\n",
    "        \n",
    "    def first(self):\n",
    "        if self.isEmpty():\n",
    "            return None\n",
    "        else:\n",
    "            return self._points[0]\n",
    "    \n",
    "    def last(self):\n",
    "        if self.isEmpty():\n",
    "            return None\n",
    "        else:\n",
    "            return self._points[self.length() - 1]\n",
    "    \n",
    "    def rest(self):\n",
    "        return PointSet(self._points[1:])\n",
    "    \n",
    "    def length(self):\n",
    "        if self.isEmpty():\n",
    "            return 0\n",
    "        else: \n",
    "            return 1 + self.rest().length()\n",
    "    \n",
    "    def __repr__(self):\n",
    "        return self._points.__repr__()\n",
    "    \n",
    "    def __iter__(self):\n",
    "        return self._points.__iter__()\n",
    "    \n",
    "    def __getitem__(self, key):\n",
    "        return self._points.__getitem__(key)\n",
    "    \n",
    "    \n",
    "# Unit Test\n",
    "    \n",
    "print('test init')\n",
    "pointSet = PointSet([Point(1, 2)])\n",
    "\n",
    "assert pointSet.isEmpty() == False\n",
    "assert pointSet.length() == 1\n",
    "assert pointSet.__repr__() == '[(1, 2)]'\n",
    "\n",
    "pointSet = PointSet()\n",
    "assert pointSet.isEmpty() == True\n",
    "assert pointSet.length() == 0\n",
    "assert pointSet.__repr__() == '[]'\n",
    "\n",
    "print('test insert')\n",
    "pointSet.insert(Point(1, 2))\n",
    "\n",
    "assert pointSet.isEmpty() == False\n",
    "assert pointSet.length() == 1\n",
    "assert pointSet.__repr__() == '[(1, 2)]'\n",
    "\n",
    "pointSet.insert(Point(5, 2))\n",
    "\n",
    "assert pointSet.isEmpty() == False\n",
    "assert pointSet.length() == 2\n",
    "assert pointSet.__repr__() == '[(1, 2), (5, 2)]'\n",
    "\n",
    "print('test cons')\n",
    "pointSet = pointSet.cons(Point(7, 2))\n",
    "\n",
    "assert pointSet.isEmpty() == False\n",
    "assert pointSet.length() == 3\n",
    "assert pointSet.__repr__() == '[(7, 2), (1, 2), (5, 2)]'\n",
    "\n",
    "print('test delete')\n",
    "pointSet.delete(0)\n",
    "pointSet.delete(0)\n",
    "        \n",
    "assert pointSet.isEmpty() == False\n",
    "assert pointSet.length() == 1\n",
    "assert pointSet.__repr__() == '[(5, 2)]'\n",
    "\n",
    "print('test first')\n",
    "pointSet.insert(Point(5, 2))\n",
    "pointSet.insert(Point(7, 2))\n",
    "\n",
    "assert pointSet.first().__repr__() == '(5, 2)'\n",
    "\n",
    "print('test rest')\n",
    "assert pointSet.rest().isEmpty() == False\n",
    "assert pointSet.rest().length() == 2\n",
    "assert pointSet.rest().__repr__() == '[(5, 2), (7, 2)]'"
   ]
  },
  {
   "cell_type": "markdown",
   "metadata": {
    "deletable": true,
    "editable": true
   },
   "source": [
    "### 3 Closest Pair of Points\n",
    "\n",
    "Extend the point set class with a method to find the closest pair of points. Your method should\n",
    "return the coordinates of the two points that have the smallest pairwise distance in the set as well\n",
    "as this distance. Bear in mind that we are now using Manhattan distance.\n",
    "\n",
    "#### Give a brief discussion what (if anything) you need to change in the algorithm to accomodate Manhattan distance.\n",
    "\n",
    "I have implement two functions (`distanceTo(other)` and `manhattanDistanceTo(other)`) in the `Point` class to calculate Euclidean distance and Manhattan distance respectively. In the `PoinSet` class, each of my two closest pair functions has a `distance` parameter which indicates the type of distance being used during the calculation. By default, it uses Manhattan distance."
   ]
  },
  {
   "cell_type": "markdown",
   "metadata": {
    "deletable": true,
    "editable": true
   },
   "source": [
    "### 3a Implement the naive $O(n^2)$ brute-force algorithm"
   ]
  },
  {
   "cell_type": "code",
   "execution_count": 168,
   "metadata": {
    "collapsed": false,
    "deletable": true,
    "editable": true
   },
   "outputs": [
    {
     "name": "stdout",
     "output_type": "stream",
     "text": [
      "test closest pair brute force\n"
     ]
    }
   ],
   "source": [
    "def closestPairBruteForce(self, distance='manhattan'):\n",
    "    \"\"\"\n",
    "    Find the closet pair of points in Manhattan distance using brute force approach\n",
    "    Parameters:\n",
    "        distance: Type of distance to compare, should be 'euclidean' or 'manhattan'\n",
    "    Return:\n",
    "        A tuple, first element is an list of closest pair of points, and the second element is the distance\n",
    "    \"\"\"\n",
    "    if distance not in ['euclidean', 'manhattan']:\n",
    "        raise ValueError(\"distance should be 'euclidean' or 'manhattan'\")\n",
    "    \n",
    "    pair = (None, None)\n",
    "    dMin = float('Inf')\n",
    "    for i in range(0, self.length()):\n",
    "        for j in range(i + 1, self.length()):\n",
    "            if distance == 'euclidean':\n",
    "                d = self[i].distanceTo(self[j])\n",
    "            elif distance == 'manhattan':\n",
    "                d = self[i].manhattanDistanceTo(self[j])\n",
    "                \n",
    "            if d < dMin:\n",
    "                dMin = d\n",
    "                pair = (self[i], self[j])\n",
    "\n",
    "    return (pair, dMin)\n",
    "\n",
    "PointSet.closestPairBruteForce = closestPairBruteForce\n",
    "\n",
    "\n",
    "# Unit Test\n",
    "\n",
    "print('test closest pair brute force')\n",
    "pointSet = PointSet([Point(1, 2), Point(3, 7), Point(4, 6), Point(7, 9), Point(2, 1), \n",
    "                     Point(2, 9), Point(8, 1), Point(5, 5), Point(3, 9), Point(9, 4), \n",
    "                     Point(5, 2), Point(6, 3), Point(3, 4), Point(8, 5)])\n",
    "assert pointSet.closestPairBruteForce().__repr__() == '(((2, 9), (3, 9)), 1)'"
   ]
  },
  {
   "cell_type": "markdown",
   "metadata": {
    "deletable": true,
    "editable": true
   },
   "source": [
    "### 3b Implement the divide-and-conquer algorithm\n",
    "\n",
    "Before I use divide-and-conquer approach to find the closest pair of points, I do a merge sort on x axis of all points. Then the the algorithm deal with the base case (there are less than or equal to 3 points), here I just use brute-force approach. Otherwise, it divide the point set into half, and recursively call this function to find the closest pair of each half. Then I can get the minimum distance (`dMin`) among these two half. After that, from the split line (the biggest x in the left half), I search both to the left and to the right to get all points within `dMin` from the split line as a point set `L`, and then sort them by y axis. Finally, I compute the minimum distance between each element in `L` and the next 15 elements. If the minimun distance is less than `dMin`, then this minimum distance is returned instead. Also, each time a mimimun distance is calculated, the pair of points have also been recorded so that it has the ability to return the pair as well."
   ]
  },
  {
   "cell_type": "code",
   "execution_count": 169,
   "metadata": {
    "collapsed": false,
    "deletable": true,
    "editable": true
   },
   "outputs": [
    {
     "name": "stdout",
     "output_type": "stream",
     "text": [
      "test merge\n",
      "test merge sort\n",
      "test points search from right\n",
      "test points search from left\n",
      "test closest pair divide and conquer\n"
     ]
    }
   ],
   "source": [
    "def mergeX(self, other):\n",
    "    if self.isEmpty():\n",
    "        return other\n",
    "    if other.isEmpty():\n",
    "        return self\n",
    "\n",
    "    if self.first().x <= other.first().x:\n",
    "        return self.rest().mergeX(other).cons(self.first())\n",
    "    else:\n",
    "        return self.mergeX(other.rest()).cons(other.first())\n",
    "\n",
    "def mergeY(self, other):\n",
    "    if self.isEmpty():\n",
    "        return other\n",
    "    if other.isEmpty():\n",
    "        return self\n",
    "\n",
    "    if self.first().y <= other.first().y:\n",
    "        return self.rest().mergeY(other).cons(self.first())\n",
    "    else:\n",
    "        return self.mergeY(other.rest()).cons(other.first())\n",
    "\n",
    "def mergeSortX(self):\n",
    "    if self.length() <= 1:\n",
    "        return self\n",
    "\n",
    "    mid = self.length() // 2\n",
    "    firstHalf = PointSet(self[:mid])\n",
    "    lastHalf = PointSet(self[mid:])\n",
    "    return firstHalf.mergeSortX().mergeX(lastHalf.mergeSortX())\n",
    "\n",
    "def mergeSortY(self):\n",
    "    if self.length() <= 1:\n",
    "        return self\n",
    "\n",
    "    mid = self.length() // 2\n",
    "    firstHalf = PointSet(self[:mid])\n",
    "    lastHalf = PointSet(self[mid:])\n",
    "    return firstHalf.mergeSortY().mergeY(lastHalf.mergeSortY())\n",
    "\n",
    "def closestPairDivideAndConquer(self, distance='manhattan'):\n",
    "    \"\"\"\n",
    "    Find the closet pair of points in Manhattan distance using brute force approach\n",
    "    Parameters:\n",
    "        distance: Type of distance to compare, should be 'euclidean' or 'manhattan'\n",
    "    Return:\n",
    "        A tuple, first element is an list of closest pair of points, and the second element is the distance\n",
    "    \"\"\"\n",
    "    if distance not in ['euclidean', 'manhattan']:\n",
    "        raise ValueError(\"distance should be 'euclidean' or 'manhattan'\")\n",
    "        \n",
    "    return self.mergeSortX()._closestPairDivideAndConquer(distance)\n",
    "\n",
    "def _closestPairDivideAndConquer(self, distance):\n",
    "    if self.length() < 3:\n",
    "        return self.closestPairBruteForce(distance)\n",
    "\n",
    "    mid = self.length() // 2\n",
    "    leftHalf = PointSet(self[:mid])\n",
    "    rightHalf = PointSet(self[mid:])\n",
    "\n",
    "    dMinPair = (None, None)\n",
    "    pairLeft, dLeft = leftHalf._closestPairDivideAndConquer(distance)\n",
    "    pairRight, dRight = rightHalf._closestPairDivideAndConquer(distance)\n",
    "\n",
    "    if dLeft <= dRight:\n",
    "        dMin = dLeft\n",
    "        dMinPair = pairLeft\n",
    "    else:\n",
    "        dMin = dRight\n",
    "        dMinPair = pairRight\n",
    "\n",
    "    midX = leftHalf.last().x\n",
    "    l = PointSet(leftHalf._pointsSearchFromRight(midX - dMin)._points + \n",
    "                 rightHalf._pointsSearchFromLeft(midX + dMin)._points).mergeSortY()\n",
    "\n",
    "    for i in range(0, l.length()):\n",
    "        dXMinPair = (None, None)\n",
    "        dXMin = float('Inf')\n",
    "        for j in range(i + 1, min(l.length(), i + 16)):\n",
    "            if distance == 'euclidean':\n",
    "                dX = l[i].distanceTo(l[j])\n",
    "            elif distance == 'manhattan':\n",
    "                dX = l[i].manhattanDistanceTo(l[j])\n",
    "            \n",
    "            if dX < dXMin:\n",
    "                dXMinPair = (l[i], l[j])\n",
    "                dXMin = dX\n",
    "\n",
    "        if dXMin < dMin:\n",
    "            dMinPair = dXMinPair\n",
    "            dMin = dXMin\n",
    "\n",
    "    return (dMinPair, dMin)\n",
    "\n",
    "def _pointsSearchFromRight(self, minX):\n",
    "    if self.isEmpty():\n",
    "        return PointSet()\n",
    "\n",
    "    if self.last().x >= minX:\n",
    "        return PointSet(self[:self.length() - 1]) \\\n",
    "            ._pointsSearchFromRight(minX).cons(self.last())\n",
    "    else:\n",
    "        return PointSet(self[:self.length() - 1]) \\\n",
    "            ._pointsSearchFromRight(minX)\n",
    "\n",
    "def _pointsSearchFromLeft(self, maxX):\n",
    "    if self.isEmpty():\n",
    "        return PointSet()\n",
    "\n",
    "    if self.first().x <= maxX:\n",
    "        return self.rest()._pointsSearchFromLeft(maxX).cons(self.first())\n",
    "    else:\n",
    "        return self.rest()._pointsSearchFromLeft(maxX)\n",
    "    \n",
    "PointSet.mergeX = mergeX\n",
    "PointSet.mergeY = mergeY\n",
    "PointSet.mergeSortX = mergeSortX\n",
    "PointSet.mergeSortY = mergeSortY\n",
    "PointSet.closestPairDivideAndConquer = closestPairDivideAndConquer\n",
    "PointSet._closestPairDivideAndConquer = _closestPairDivideAndConquer\n",
    "PointSet._pointsSearchFromLeft = _pointsSearchFromLeft\n",
    "PointSet._pointsSearchFromRight = _pointsSearchFromRight\n",
    "\n",
    "\n",
    "# Unit Test\n",
    "\n",
    "print('test merge')\n",
    "assert PointSet([Point(1, 2), Point(7, 4)]) \\\n",
    "    .mergeX(PointSet([Point(0, 3), Point(5, 1)])) \\\n",
    "    .__repr__() == '[(0, 3), (1, 2), (5, 1), (7, 4)]'\n",
    "\n",
    "print('test merge sort')\n",
    "assert PointSet([Point(7, 4), Point(0, 3), Point(5, 1), Point(1, 2)]) \\\n",
    "    .mergeSortX().__repr__() == '[(0, 3), (1, 2), (5, 1), (7, 4)]'\n",
    "    \n",
    "print('test points search from right')\n",
    "assert PointSet([Point(2, 3), Point(5, 2), Point(6, 7), Point(8, 5)]) \\\n",
    "    ._pointsSearchFromRight(5).__repr__() == '[(8, 5), (6, 7), (5, 2)]'\n",
    "\n",
    "print('test points search from left')\n",
    "assert PointSet([Point(2, 3), Point(5, 2), Point(6, 7), Point(8, 5)]) \\\n",
    "    ._pointsSearchFromLeft(5).__repr__() == '[(2, 3), (5, 2)]'\n",
    "    \n",
    "print('test closest pair divide and conquer')\n",
    "assert pointSet.closestPairDivideAndConquer().__repr__() == '(((2, 9), (3, 9)), 1)'"
   ]
  },
  {
   "cell_type": "markdown",
   "metadata": {
    "collapsed": true,
    "deletable": true,
    "editable": true
   },
   "source": [
    "## 4 Empirical Runtime Evaluation\n",
    "Perform an empirical runtime evaluation for both your algorithms using the Python timeit library.\n",
    "Plot runtime graphs for both algorithms for a reasonable range of input sizes (you do not need to\n",
    "plot these using Python, but you are of course welcome to do so). "
   ]
  },
  {
   "cell_type": "code",
   "execution_count": 171,
   "metadata": {
    "collapsed": false,
    "deletable": true,
    "editable": true
   },
   "outputs": [
    {
     "name": "stdout",
     "output_type": "stream",
     "text": [
      "timing...\n",
      "3,8,13,18,23,28,33,38,43,48,53,58,63,68,73,78,83,88,93,98,103,108,113,118,123,128,133,138,143,148,153,158,163,168,173,178,183,188,193,198,203,208,213,218,223,228,233,238,243,248,253,258,263,268,273,278,283,288,293,298,303,308,313,318,323,328,333,338,343,348,353,358,363,368,373,378,383,388,393,398,403,408,413,418,423,428,433,438,443,448,453,458,463,468,473,478,483,488,493,498,\n",
      "done.\n"
     ]
    }
   ],
   "source": [
    "import matplotlib.pyplot as plt\n",
    "%matplotlib inline\n",
    "from timeit import *\n",
    "from random import randint\n",
    "\n",
    "pointsRange = range(3, 500, 5)\n",
    "bruteForces = []\n",
    "divideAndConquers = []\n",
    "print('timing...')\n",
    "\n",
    "for i in pointsRange:\n",
    "    print('{}'.format(i), end=',')\n",
    "    \n",
    "    # generate points randomly\n",
    "    points = []\n",
    "    for j in range(0, i):\n",
    "        points.append(Point(randint(0, 99), randint(0, 99)))\n",
    "    pointSet = PointSet(points)\n",
    "\n",
    "    # time it\n",
    "    bruteForce = timeit(pointSet.closestPairBruteForce, number=3) / 3\n",
    "    bruteForces.append(bruteForce)\n",
    "    divideAndConquer = timeit(pointSet.closestPairDivideAndConquer, number=3) / 3\n",
    "    divideAndConquers.append(divideAndConquer)\n",
    "\n",
    "print()\n",
    "print('done.')"
   ]
  },
  {
   "cell_type": "code",
   "execution_count": 172,
   "metadata": {
    "collapsed": false,
    "deletable": true,
    "editable": true
   },
   "outputs": [
    {
     "data": {
      "image/png": "[encoded data removed]",
      "text/plain": [
       "<matplotlib.figure.Figure at 0x1098e0978>"
      ]
     },
     "metadata": {},
     "output_type": "display_data"
    }
   ],
   "source": [
    "lineBruteForce, = plt.plot(pointsRange, bruteForces, label='Brute Force')\n",
    "lineDivideAndConquer, = plt.plot(pointsRange, divideAndConquers, label='Divide and Conquer')\n",
    "plt.xlabel('Points')\n",
    "plt.ylabel('Time (s)')\n",
    "plt.legend(handles=[lineBruteForce, lineDivideAndConquer])\n",
    "plt.show()"
   ]
  },
  {
   "cell_type": "markdown",
   "metadata": {
    "collapsed": true,
    "deletable": true,
    "editable": true
   },
   "source": [
    "#### Discuss briefly whether your plots substantiate your expectations\n",
    "\n",
    "The line of Brute-Force approach shows a quadratic, and the one of Divide-and-Conquer approach shows a log linear curve.\n",
    "\n",
    "\n",
    "## 5 Recurrence Relation\n",
    "Define the runtime recurrence relation that would arise if you would not pass sorted lists down the recursion but instead would sort the lists explicitly on each level of the recursion.\n",
    "\n",
    "\n",
    "Because of this algorithm cuts the set into two half and do recursive calls on these two half, so the recursion "
   ]
  },
  {
   "cell_type": "markdown",
   "metadata": {},
   "source": [
    "## Bonus: Visualisation\n",
    "\n",
    "Please run the following command on the terminal and restart the jupyter notebook to make this runnable:\n",
    "```\n",
    "$ jupyter nbextension enable --py --sys-prefix widgetsnbextension\n",
    "```"
   ]
  },
  {
   "cell_type": "code",
   "execution_count": 175,
   "metadata": {
    "collapsed": false,
    "deletable": true,
    "editable": true
   },
   "outputs": [],
   "source": [
    "# closest pair with visualisation\n",
    "def closestPairDivideAndConquerWithVisualisation(pointSet, printLevel, distance='manhattan'):\n",
    "    if distance not in ['euclidean', 'manhattan']:\n",
    "        raise ValueError(\"distance should be 'euclidean' or 'manhattan'\")\n",
    "        \n",
    "    return _closestPairDivideAndConquerWithVisualisation(pointSet.mergeSortX(), 0, printLevel, distance)\n",
    "\n",
    "def _closestPairDivideAndConquerWithVisualisation(pointSet, currentLevel, printLevel, distance):\n",
    "    currentLevel = currentLevel + 1\n",
    "        \n",
    "    if pointSet.length() <= 3:\n",
    "        return pointSet.closestPairBruteForce(distance)\n",
    "\n",
    "    mid = pointSet.length() // 2\n",
    "    leftHalf = PointSet(pointSet[:mid])\n",
    "    rightHalf = PointSet(pointSet[mid:])\n",
    "\n",
    "    dMinPair = (None, None)\n",
    "    pairLeft, dLeft = _closestPairDivideAndConquerWithVisualisation(leftHalf, currentLevel, printLevel, distance)\n",
    "    pairRight, dRight = _closestPairDivideAndConquerWithVisualisation(rightHalf, currentLevel, printLevel, distance)\n",
    "\n",
    "    if dLeft <= dRight:\n",
    "        dMin = dLeft\n",
    "        dMinPair = pairLeft\n",
    "    else:\n",
    "        dMin = dRight\n",
    "        dMinPair = pairRight\n",
    "\n",
    "    midX = leftHalf.last().x\n",
    "    l = PointSet(leftHalf._pointsSearchFromRight(midX - dMin)._points + \n",
    "                 rightHalf._pointsSearchFromLeft(midX + dMin)._points).mergeSortY()\n",
    "\n",
    "    dXMinPair = (None, None)\n",
    "    dXMin = float('Inf')\n",
    "    for i in range(0, l.length()):\n",
    "        for j in range(i + 1, min(l.length(), i + 16)):\n",
    "            if distance == 'euclidean':\n",
    "                dX = l[i].distanceTo(l[j])\n",
    "            elif distance == 'manhattan':\n",
    "                dX = l[i].manhattanDistanceTo(l[j])\n",
    "            \n",
    "            if dX < dXMin:\n",
    "                dXMinPair = (l[i], l[j])\n",
    "                dXMin = dX\n",
    "\n",
    "        if dXMin < dMin:\n",
    "            dMinPair = dXMinPair\n",
    "            dMin = dXMin\n",
    "            if dXMinPair:\n",
    "                mins.append(dXMinPair)\n",
    "              \n",
    "    if currentLevel == printLevel:\n",
    "        global pMid, pLeftMin, pRightMin, axvspan\n",
    "        \n",
    "        # plot mids\n",
    "        pMid = plt.plot([midX, midX], [0, 100])\n",
    "\n",
    "        # plot mins\n",
    "        pLeftMin = plt.plot([pairLeft[0].x, pairLeft[1].x], [pairLeft[0].y, pairLeft[1].y])\n",
    "        pRightMin = plt.plot([pairRight[0].x, pairRight[1].x], [pairRight[0].y, pairRight[1].y])\n",
    "        \n",
    "        # plot range\n",
    "        axvspan = plt.axvspan(midX - dMin, midX + dMin, color='red', alpha=0.1)\n",
    "      \n",
    "    global totalLevel\n",
    "    if currentLevel > totalLevel:\n",
    "        totalLevel = currentLevel\n",
    "    \n",
    "    return (dMinPair, dMin)"
   ]
  },
  {
   "cell_type": "code",
   "execution_count": 180,
   "metadata": {
    "collapsed": false
   },
   "outputs": [
    {
     "data": {
      "application/vnd.jupyter.widget-view+json": {
       "model_id": "cb234b3c7fb64507aa14f2c45d2dba7f"
      }
     },
     "metadata": {},
     "output_type": "display_data"
    },
    {
     "name": "stdout",
     "output_type": "stream",
     "text": [
      "Result: pair=((10, 29), (10, 31)), distance=2\n"
     ]
    }
   ],
   "source": [
    "%matplotlib inline\n",
    "%config InlineBackend.close_figures = False \n",
    "\n",
    "import matplotlib.pyplot as plt\n",
    "import numpy as np\n",
    "\n",
    "from ipywidgets import widgets\n",
    "from IPython.display import display, clear_output\n",
    "\n",
    "rcParams['figure.figsize'] = (15, 8)\n",
    "\n",
    "plt.ioff()\n",
    "ax = plt.gca()\n",
    "\n",
    "out = widgets.Output()\n",
    "button = widgets.Button(description='Next')\n",
    "vbox = widgets.VBox(children=(out, button))\n",
    "display(vbox)\n",
    "\n",
    "totalLevel = 0\n",
    "currentLevel = 0\n",
    "pMid = None\n",
    "pLeftMin = None\n",
    "pRightMin = None\n",
    "axvspan = None\n",
    "\n",
    "points = []\n",
    "for j in range(0, 40):\n",
    "    points.append(Point(randint(0, 99), randint(0, 99)))\n",
    "pointSet = PointSet(points)\n",
    "\n",
    "for point in pointSet:\n",
    "    plt.plot(point.x, point.y, marker='o', markersize=3, color=\"red\")\n",
    "        \n",
    "def click(b):\n",
    "    global currentLevel\n",
    "    currentLevel = currentLevel + 1\n",
    "    \n",
    "    pair, distance = closestPairDivideAndConquerWithVisualisation(pointSet, currentLevel)\n",
    "    \n",
    "    if currentLevel == totalLevel:\n",
    "        print('Result: pair={}, distance={}'.format(pair, distance))\n",
    "        \n",
    "    with out:\n",
    "        clear_output(wait=True)\n",
    "        display(ax.figure)\n",
    "\n",
    "button.on_click(click)\n",
    "click(None)"
   ]
  },
  {
   "cell_type": "code",
   "execution_count": null,
   "metadata": {
    "collapsed": true
   },
   "outputs": [],
   "source": []
  }
 ],
 "metadata": {
  "kernelspec": {
   "display_name": "Python 3",
   "language": "python",
   "name": "python3"
  },
  "language_info": {
   "codemirror_mode": {
    "name": "ipython",
    "version": 3
   },
   "file_extension": ".py",
   "mimetype": "text/x-python",
   "name": "python",
   "nbconvert_exporter": "python",
   "pygments_lexer": "ipython3",
   "version": "3.6.0"
  }
 },
 "nbformat": 4,
 "nbformat_minor": 2
}
