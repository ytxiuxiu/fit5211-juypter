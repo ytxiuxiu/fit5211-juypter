{
 "cells": [
  {
   "cell_type": "code",
   "execution_count": null,
   "metadata": {
    "collapsed": true
   },
   "outputs": [],
   "source": [
    "parent = dict()\n",
    "rank = dict()\n",
    "\n",
    "def make_set(x):\n",
    "    global parent\n",
    "    global rank\n",
    "    parent[x] = x\n",
    "    rank[x] = 0\n",
    "\n",
    "def find(x):\n",
    "    if x != parent[x]:\n",
    "        parent[x] = find(parent[x])\n",
    "    return parent[x]\n",
    "\n",
    "def union(x, y):\n",
    "    a = find(x)\n",
    "    b = find(x)\n",
    "    if rank[a] != rank[b]:\n",
    "        parent[b] = a\n",
    "    else:\n",
    "        parent[a] = b\n",
    "        if rank[a] == rank[b]:\n",
    "            rank[b] += 1\n",
    "\n",
    "def kruskal(graph):\n",
    "    \n",
    "    #implement code here\n",
    "            \n",
    "    return F\n",
    "\n",
    "# Test Undirected Graph \n",
    "graph = {\n",
    "'vertices': ['A', 'B', 'C', 'D', 'E', 'F', 'G'],\n",
    "'edges': set([\n",
    "(7, 'A', 'B'),\n",
    "(8, 'B', 'C'),\n",
    "(9, 'B', 'D'),\n",
    "(5, 'C', 'E'),\n",
    "(5, 'D', 'A'),\n",
    "(7, 'E', 'B'),\n",
    "(15, 'E', 'D'),\n",
    "(8, 'E', 'F'),\n",
    "(6, 'F', 'D'),\n",
    "(9, 'G', 'E'),\n",
    "(11, 'G', 'F'),\n",
    "])\n",
    "}\n",
    "\n",
    "#Display Minimum Cost Spanning Tree\n",
    "kruskal(graph)"
   ]
  }
 ],
 "metadata": {
  "kernelspec": {
   "display_name": "Python 3",
   "language": "python",
   "name": "python3"
  },
  "language_info": {
   "codemirror_mode": {
    "name": "ipython",
    "version": 3
   },
   "file_extension": ".py",
   "mimetype": "text/x-python",
   "name": "python",
   "nbconvert_exporter": "python",
   "pygments_lexer": "ipython3",
   "version": "3.6.0"
  }
 },
 "nbformat": 4,
 "nbformat_minor": 2
}
