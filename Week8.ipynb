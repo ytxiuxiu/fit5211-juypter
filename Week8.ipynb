{
 "cells": [
  {
   "cell_type": "code",
   "execution_count": 32,
   "metadata": {
    "collapsed": false
   },
   "outputs": [
    {
     "name": "stdout",
     "output_type": "stream",
     "text": [
      "[0, 14, 8, 6, 1, 2, 4]\n",
      "[0, 1, 2, 4, 6, 8, 14]\n"
     ]
    }
   ],
   "source": [
    "l = [0, 2, 14, 6, 1, 8, 4]\n",
    "global n\n",
    "n = len(l) - 1\n",
    "\n",
    "def HeapSort(a):\n",
    "    global n\n",
    "    for i in range(n, 1, -1):\n",
    "        a[1], a[i] = a[i], a[1]\n",
    "        n -= 1\n",
    "        Heapify(a, 1)\n",
    "\n",
    "def BuildMaxHeap(a):\n",
    "    for i in range(n // 2, 0, -1):\n",
    "        Heapify(a, i)\n",
    "        \n",
    "def Heapify(a, i):\n",
    "    left = 2 * i\n",
    "    right = 2 * i + 1\n",
    "    \n",
    "    if left <= n and a[left] > a[i]:\n",
    "        m = left\n",
    "    else:\n",
    "        m = i\n",
    "        \n",
    "    if right <= n and a[right] > a[m]:\n",
    "        m = right\n",
    "        \n",
    "    if m != i:\n",
    "        a[m], a[i] = a[i], a[m]\n",
    "        Heapify(a, m)\n",
    "        \n",
    "BuildMaxHeap(l)\n",
    "print(l)\n",
    "HeapSort(l)\n",
    "print(l)"
   ]
  },
  {
   "cell_type": "code",
   "execution_count": null,
   "metadata": {
    "collapsed": true
   },
   "outputs": [],
   "source": []
  }
 ],
 "metadata": {
  "kernelspec": {
   "display_name": "Python 3",
   "language": "python",
   "name": "python3"
  },
  "language_info": {
   "codemirror_mode": {
    "name": "ipython",
    "version": 3
   },
   "file_extension": ".py",
   "mimetype": "text/x-python",
   "name": "python",
   "nbconvert_exporter": "python",
   "pygments_lexer": "ipython3",
   "version": "3.6.0"
  }
 },
 "nbformat": 4,
 "nbformat_minor": 2
}
