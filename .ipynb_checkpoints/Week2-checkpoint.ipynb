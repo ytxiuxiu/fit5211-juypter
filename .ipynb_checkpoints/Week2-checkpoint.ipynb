{
 "cells": [
  {
   "cell_type": "markdown",
   "metadata": {},
   "source": [
    "1 Write a short program to print out the square numbers Xi = i^2 from i = 0 to a fixed upper limit i = n. All the user has to do is to enter the value for n."
   ]
  },
  {
   "cell_type": "code",
   "execution_count": 5,
   "metadata": {
    "collapsed": false
   },
   "outputs": [
    {
     "name": "stdout",
     "output_type": "stream",
     "text": [
      "Please input a number5\n",
      "0\n",
      "1\n",
      "4\n",
      "9\n",
      "16\n"
     ]
    }
   ],
   "source": [
    "import math\n",
    "\n",
    "n = int(input('Please input a number:'))\n",
    "for i in range(0, n):\n",
    "    print(int(math.pow(i, 2)))"
   ]
  },
  {
   "cell_type": "markdown",
   "metadata": {},
   "source": [
    "2 Built-in list structures in Python"
   ]
  },
  {
   "cell_type": "code",
   "execution_count": 11,
   "metadata": {
    "collapsed": false
   },
   "outputs": [
    {
     "name": "stdout",
     "output_type": "stream",
     "text": [
      "True\n",
      "False\n"
     ]
    }
   ],
   "source": [
    "def find(L, x):\n",
    "    i = 0\n",
    "    while i < len(L):\n",
    "        if x == L[i]:\n",
    "            return True\n",
    "        i = i + 1\n",
    "    return False\n",
    "\n",
    "print(find([1,2,3,4,5], 5))\n",
    "print(find([1,2,3,4,5], 6))"
   ]
  },
  {
   "cell_type": "code",
   "execution_count": 80,
   "metadata": {
    "collapsed": false
   },
   "outputs": [
    {
     "name": "stdout",
     "output_type": "stream",
     "text": [
      "[2, 8, 7, 4]\n",
      "True\n",
      "False\n",
      "2\n",
      "8\n",
      "7\n",
      "4\n",
      "[2, 2, 8, 8, 7, 7, 4, 4]\n",
      "0\n",
      "2\n",
      "1\n",
      "2\n",
      "2\n",
      "8\n",
      "3\n",
      "8\n",
      "4\n",
      "7\n",
      "5\n",
      "7\n",
      "6\n",
      "4\n",
      "7\n",
      "4\n",
      "[2, 2, 8, 8, 7, 7, 4, 4]\n"
     ]
    }
   ],
   "source": [
    "class Node:\n",
    "    def __init__(self,initdata):\n",
    "        self.data = initdata\n",
    "        self.next = None\n",
    "\n",
    "    def getData(self):\n",
    "        return self.data\n",
    "\n",
    "    def getNext(self):\n",
    "        return self.next\n",
    "\n",
    "    def setData(self,newdata):\n",
    "        self.data = newdata\n",
    "\n",
    "    def setNext(self,newnext):\n",
    "        self.next = newnext\n",
    "        \n",
    "class UnorderedList:\n",
    "\n",
    "    def __init__(self):\n",
    "        self.head = None\n",
    "        \n",
    "    def isEmpty(self):\n",
    "        return self.head == None\n",
    "\n",
    "    def add(self,item):\n",
    "        temp = Node(item)\n",
    "        temp.setNext(self.head)\n",
    "        self.head = temp\n",
    "    \n",
    "    def size(self):\n",
    "        current = self.head\n",
    "        count = 0\n",
    "        while current != None:\n",
    "            count = count + 1\n",
    "            current = current.getNext()\n",
    "\n",
    "        return count\n",
    "    \n",
    "    def find(self, item):\n",
    "        current = self.head\n",
    "        while current != None:\n",
    "            if current.getData() == item:\n",
    "                return True\n",
    "            current = current.getNext()\n",
    "        return False\n",
    "    \n",
    "    def repeatx2(self):\n",
    "        current = self.head\n",
    "        while current != None:\n",
    "            print(current.getData())\n",
    "            n = current.getNext();\n",
    "            \n",
    "            temp = Node(current.getData())\n",
    "            temp.setNext(n)\n",
    "            current.setNext(temp)\n",
    "            \n",
    "            current = current.getNext().getNext()\n",
    "            \n",
    "    def symmetery(self):\n",
    "        current = self.head\n",
    "        while current != None:\n",
    "            last = current\n",
    "            current = current.getNext()\n",
    "\n",
    "        lastTemp = last\n",
    "        current = self.head\n",
    "        i = 0\n",
    "        while i < self.size():\n",
    "            print(i)\n",
    "            print(current.getData())\n",
    "            current = current.getNext()\n",
    "            i = i + 1\n",
    "    \n",
    "    def __str__(self):\n",
    "        result = \"[\"\n",
    "        current = self.head\n",
    "        while current != None:\n",
    "            result += \"{}, \".format(current.getData())\n",
    "            current = current.getNext()\n",
    "        return result[:-2] + \"]\";\n",
    "        \n",
    "l = UnorderedList()\n",
    "l.add(4)\n",
    "l.add(7)\n",
    "l.add(8)\n",
    "l.add(2)\n",
    "\n",
    "print(l)\n",
    "\n",
    "print(l.find(4))\n",
    "print(l.find(5))\n",
    "\n",
    "l.repeatx2()\n",
    "print(l)\n",
    "\n",
    "l.symmetery()\n",
    "print(l)"
   ]
  },
  {
   "cell_type": "markdown",
   "metadata": {},
   "source": [
    "4 Iterative Fibonnaci numbers\n",
    "\n",
    "Write a function that iteratively computes the nth Fibonacci number for a given integer n.\n",
    "\n",
    "```\n",
    "DEFINE FUNCTION fib(NUMBER n)\n",
    "    IF n = 1 THEN\n",
    "        RETURN 1\n",
    "    \n",
    "    SET previous previous = 0\n",
    "    SET previous = 1\n",
    "    SET current = 0\n",
    "    \n",
    "    FOR i FROM 1 TO n\n",
    "        SET current = previous + previous previous\n",
    "        SET previous previous = previous\n",
    "        SET previous = current\n",
    "    RETURN current\n",
    "```"
   ]
  },
  {
   "cell_type": "code",
   "execution_count": 26,
   "metadata": {
    "collapsed": false
   },
   "outputs": [
    {
     "name": "stdout",
     "output_type": "stream",
     "text": [
      "Please input a number:5\n",
      "5\n"
     ]
    }
   ],
   "source": [
    "def fib(n):\n",
    "    if n == 1:\n",
    "        return 1\n",
    "        \n",
    "    previousPrevious = 0\n",
    "    previous = 1\n",
    "    current = 0\n",
    "        \n",
    "    for i in range (1, n):\n",
    "        current = previous + previousPrevious\n",
    "        previousPrevious = previous\n",
    "        previous = current\n",
    "    return current\n",
    "\n",
    "n = int(input(\"Please input a number:\"))\n",
    "print(fib(n))"
   ]
  },
  {
   "cell_type": "markdown",
   "metadata": {},
   "source": [
    "5 Recursive Fibonacci numbers\n",
    "\n",
    "Same as Exercise 4, but use recursion.\n",
    "\n",
    "```\n",
    "fib(n):\n",
    "\n",
    "Base case 1 if n = 1 return 1\n",
    "Base case 2 elif n = 0 return 0\n",
    "\n",
    "Else (if n is not 0 or 1)\n",
    "\n",
    "Return fib(n-1) + fib(n-2) (re enter the method recursively)\n",
    "```"
   ]
  },
  {
   "cell_type": "code",
   "execution_count": 33,
   "metadata": {
    "collapsed": false
   },
   "outputs": [
    {
     "name": "stdout",
     "output_type": "stream",
     "text": [
      "Please input a number:20\n",
      "6765\n",
      "0.007525000000001114\n"
     ]
    }
   ],
   "source": [
    "def fib(n):\n",
    "    if n == 0:\n",
    "        return 0\n",
    "    if n == 1:\n",
    "        return 1\n",
    "    else:\n",
    "        return fib(n - 1) + fib(n - 2)\n",
    "    \n",
    "start = time.process_time()\n",
    "n = int(input(\"Please input a number:\"))\n",
    "print(fib(n))\n",
    "print(time.process_time() - start)"
   ]
  },
  {
   "cell_type": "markdown",
   "metadata": {},
   "source": [
    "6 Recursive Fibonnaci numbers with memorization\n",
    "\n",
    "After solving Exercise 5, add memorization to your code by storing values of the Fibonnaci\n",
    "numbers as they are computed. Compare the running times of the programs written in Exercises 4,\n",
    "5 and 6 using for instance the function “time.process_time()”. "
   ]
  },
  {
   "cell_type": "code",
   "execution_count": 34,
   "metadata": {
    "collapsed": false
   },
   "outputs": [
    {
     "name": "stdout",
     "output_type": "stream",
     "text": [
      "Please input a number:3\n",
      "2\n",
      "0.005738999999998384\n"
     ]
    }
   ],
   "source": [
    "import time\n",
    "\n",
    "memory = {}\n",
    "\n",
    "def getOrCalculate(n):\n",
    "    if n in memory:\n",
    "        return memory[n]\n",
    "    else:\n",
    "        return fib(n)\n",
    "\n",
    "def fib(n):\n",
    "    if n == 0:\n",
    "        return 0\n",
    "    if n == 1:\n",
    "        return 1\n",
    "    else:\n",
    "        return getOrCalculate(n - 1) + getOrCalculate(n - 2)\n",
    "    \n",
    "start = time.process_time()\n",
    "n = int(input(\"Please input a number:\"))\n",
    "print(fib(n))\n",
    "print(time.process_time() - start)"
   ]
  },
  {
   "cell_type": "markdown",
   "metadata": {},
   "source": [
    "7 For this question, you are required to implement a method repeatx2 that replaces every element of the queue with two copies of that element. For example:\n",
    "\n",
    "```\n",
    "front [1, 2, 3] back\n",
    "becomes\n",
    "front [1, 1, 2, 2, 3, 3] back\n",
    "```"
   ]
  },
  {
   "cell_type": "code",
   "execution_count": 19,
   "metadata": {
    "collapsed": false
   },
   "outputs": [
    {
     "name": "stdout",
     "output_type": "stream",
     "text": [
      "[1, 1, 2, 2, 3, 3]\n"
     ]
    }
   ],
   "source": [
    "def repeatx2(arr):\n",
    "    result = []\n",
    "    for i in arr:\n",
    "        result.append(i)\n",
    "        result.append(i)\n",
    "    return result\n",
    "\n",
    "print(repeatx2([1,2,3]))"
   ]
  },
  {
   "cell_type": "markdown",
   "metadata": {},
   "source": [
    "8 For this question, you are required to implement a method symmetery that appends the queue's contents to itself in reverse order. For example:\n",
    "\n",
    "```\n",
    "front [a, b, c] back\n",
    "becomes\n",
    "front [a, b, c, c, b, a] back\n",
    "```"
   ]
  },
  {
   "cell_type": "code",
   "execution_count": 25,
   "metadata": {
    "collapsed": false
   },
   "outputs": [
    {
     "name": "stdout",
     "output_type": "stream",
     "text": [
      "['a', 'b', 'c', 'c', 'b', 'a']\n"
     ]
    }
   ],
   "source": [
    "def symmetery(arr):\n",
    "    result = arr\n",
    "    for i in range(len(arr), 0, -1):\n",
    "        result.append(arr[i - 1])\n",
    "    return result\n",
    "\n",
    "print(symmetery(['a', 'b', 'c']))\n",
    "    "
   ]
  }
 ],
 "metadata": {
  "kernelspec": {
   "display_name": "Python 3",
   "language": "python",
   "name": "python3"
  }
 },
 "nbformat": 4,
 "nbformat_minor": 2
}
