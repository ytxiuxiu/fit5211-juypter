{
 "cells": [
  {
   "cell_type": "markdown",
   "metadata": {},
   "source": []
  },
  {
   "cell_type": "code",
   "execution_count": 35,
   "metadata": {
    "collapsed": false,
    "deletable": true,
    "editable": true
   },
   "outputs": [
    {
     "name": "stdout",
     "output_type": "stream",
     "text": [
      "Please enter an integer number: 3\n",
      "3 is odd\n"
     ]
    }
   ],
   "source": [
    "num = int(input('Please enter an integer number: '))\n",
    "\n",
    "if num % 2 == 1:\n",
    "  print('{} is odd'.format(num))\n",
    "else:\n",
    "  print('{} is even'.format(num))"
   ]
  },
  {
   "cell_type": "code",
   "execution_count": 1,
   "metadata": {
    "collapsed": false,
    "deletable": true,
    "editable": true
   },
   "outputs": [
    {
     "name": "stdout",
     "output_type": "stream",
     "text": [
      "Please enter an integer number: 3\n",
      "0\n",
      "1\n",
      "4\n",
      "9\n"
     ]
    }
   ],
   "source": [
    "n = int(input('Please enter an integer number: '))\n",
    "\n",
    "for i in range(0, n + 1):\n",
    "    print(i*i)"
   ]
  },
  {
   "cell_type": "code",
   "execution_count": 2,
   "metadata": {
    "collapsed": false,
    "deletable": true,
    "editable": true
   },
   "outputs": [
    {
     "name": "stdout",
     "output_type": "stream",
     "text": [
      "Please enter an integer number: 3\n",
      "3 is odd\n"
     ]
    }
   ],
   "source": [
    "def readValue():\n",
    "    return int(input('Please enter an integer number: '))\n",
    "\n",
    "def isOdd(num):\n",
    "    return num % 2 == 1\n",
    "\n",
    "def printResult(num):\n",
    "    if isOdd(num):\n",
    "      print('{} is odd'.format(num))\n",
    "    else:\n",
    "      print('{} is even'.format(num))\n",
    "    \n",
    "printResult(readValue());"
   ]
  },
  {
   "cell_type": "code",
   "execution_count": 4,
   "metadata": {
    "collapsed": false,
    "deletable": true,
    "editable": true
   },
   "outputs": [
    {
     "name": "stdout",
     "output_type": "stream",
     "text": [
      "Please enter an integer number: 2\n",
      "3\n"
     ]
    }
   ],
   "source": [
    "x = int(input('Please enter an integer number (n >= 1): '))\n",
    "\n",
    "def sum(x):\n",
    "    if x >= 1:\n",
    "        if x == 1:\n",
    "            return 1;\n",
    "        if x > 1:\n",
    "            return x + sum(x - 1);\n",
    "\n",
    "print(sum(x))"
   ]
  },
  {
   "cell_type": "code",
   "execution_count": 5,
   "metadata": {
    "collapsed": false,
    "deletable": true,
    "editable": true
   },
   "outputs": [
    {
     "name": "stdout",
     "output_type": "stream",
     "text": [
      "3\n"
     ]
    }
   ],
   "source": [
    "list = [1, 2, 55, -8, 6, 7]\n",
    "\n",
    "minIndex = 0\n",
    "min = list[0]\n",
    "for index, value in enumerate(list):\n",
    "    if (value < min):\n",
    "        min = value\n",
    "        minIndex = index\n",
    "        \n",
    "print(minIndex)"
   ]
  },
  {
   "cell_type": "code",
   "execution_count": 11,
   "metadata": {
    "collapsed": false,
    "deletable": true,
    "editable": true
   },
   "outputs": [
    {
     "name": "stdout",
     "output_type": "stream",
     "text": [
      "[-10, 2, 8]\n",
      "[-7, -3, 10]\n"
     ]
    }
   ],
   "source": [
    "arr = [-25, -10, -7, -3, 2, 4, 8, 10]\n",
    "\n",
    "results = []\n",
    "\n",
    "for i, x in enumerate(arr):\n",
    "    for j, y in enumerate(arr[(i + 1):]):\n",
    "        for k, z in enumerate(arr[(j + 1):]):\n",
    "            if x + y + z == 0:\n",
    "                results.append([x, y, z])\n",
    "\n",
    "for result in results:\n",
    "    print(result)"
   ]
  },
  {
   "cell_type": "code",
   "execution_count": 20,
   "metadata": {
    "collapsed": false,
    "deletable": true,
    "editable": true
   },
   "outputs": [
    {
     "name": "stdout",
     "output_type": "stream",
     "text": [
      "Please enter an integer number (n > 1): 100\n",
      "2\n",
      "3\n",
      "5\n",
      "7\n",
      "11\n",
      "13\n",
      "17\n",
      "19\n",
      "23\n",
      "29\n",
      "31\n",
      "37\n",
      "41\n",
      "43\n",
      "47\n",
      "53\n",
      "59\n",
      "61\n",
      "67\n",
      "71\n",
      "73\n",
      "79\n",
      "83\n",
      "89\n",
      "97\n"
     ]
    }
   ],
   "source": [
    "import math\n",
    "\n",
    "n = int(input('Please enter an integer number (n > 1): '))\n",
    "\n",
    "a = [None, None]\n",
    "for i in range(2, n):\n",
    "    a.append(True)\n",
    "    \n",
    "for i in range(2, int(math.sqrt(n))):\n",
    "    if (a[i]):\n",
    "        for j in range(int(math.pow(i, 2)), n, i):\n",
    "            a[j] = False\n",
    "            \n",
    "for i in range(2, len(a)):\n",
    "    if (a[i]):\n",
    "        print(i)"
   ]
  },
  {
   "cell_type": "code",
   "execution_count": 32,
   "metadata": {
    "collapsed": false
   },
   "outputs": [
    {
     "name": "stdout",
     "output_type": "stream",
     "text": [
      "55\n"
     ]
    }
   ],
   "source": [
    "list = [1, 2, 55, -8, 6, 7]\n",
    "\n",
    "def maxInList(list):\n",
    "    maxInTwo = list[0] if list[0] > list[1] else list[1]\n",
    "    if len(list) == 2:\n",
    "        return maxInTwo\n",
    "    elif len(list) >= 2:\n",
    "        list = list[2:]\n",
    "        list.insert(0, maxInTwo)\n",
    "        return maxInList(list)\n",
    "    \n",
    "print(maxInList(list))"
   ]
  },
  {
   "cell_type": "code",
   "execution_count": 34,
   "metadata": {
    "collapsed": false
   },
   "outputs": [
    {
     "name": "stdout",
     "output_type": "stream",
     "text": [
      "area: 28\n",
      "perimeter: 22\n"
     ]
    }
   ],
   "source": [
    "class Rectangle:\n",
    "    def __init__(self, length, width):\n",
    "        self.length = length\n",
    "        self.width = width\n",
    "        \n",
    "    def area(self):\n",
    "        return self.length * self.width\n",
    "    \n",
    "    def perimeter(self):\n",
    "        return (self.length + self.width) * 2\n",
    "    \n",
    "r = Rectangle(7, 4)\n",
    "print('area: {}'.format(r.area()))\n",
    "print('perimeter: {}'.format(r.perimeter()))"
   ]
  },
  {
   "cell_type": "code",
   "execution_count": null,
   "metadata": {
    "collapsed": true
   },
   "outputs": [],
   "source": []
  }
 ],
 "metadata": {
  "kernelspec": {
   "display_name": "Python 3",
   "language": "python",
   "name": "python3"
  },
  "language_info": {
   "codemirror_mode": {
    "name": "ipython",
    "version": 3
   },
   "file_extension": ".py",
   "mimetype": "text/x-python",
   "name": "python",
   "nbconvert_exporter": "python",
   "pygments_lexer": "ipython3",
   "version": "3.6.0"
  }
 },
 "nbformat": 4,
 "nbformat_minor": 2
}
