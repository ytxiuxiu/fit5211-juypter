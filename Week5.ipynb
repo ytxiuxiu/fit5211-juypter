{
 "cells": [
  {
   "cell_type": "markdown",
   "metadata": {},
   "source": [
    "Coin Change Problem - Dynamic Programming\n",
    "\n",
    "Min Coins"
   ]
  },
  {
   "cell_type": "code",
   "execution_count": 89,
   "metadata": {
    "collapsed": true
   },
   "outputs": [],
   "source": [
    "ds = [1, 2, 5]"
   ]
  },
  {
   "cell_type": "code",
   "execution_count": 80,
   "metadata": {
    "collapsed": false
   },
   "outputs": [
    {
     "data": {
      "text/plain": [
       "2"
      ]
     },
     "execution_count": 80,
     "metadata": {},
     "output_type": "execute_result"
    }
   ],
   "source": [
    "def change(c):\n",
    "    results = [0]\n",
    "    for i in range(1, c + 1):\n",
    "#         print('change {}'.format(i))\n",
    "        temp = []\n",
    "        for d in ds:\n",
    "            if d <= i:\n",
    "#                 print(d)\n",
    "                temp.append(1 + results[i - d])\n",
    "#         print('min({}) = {}'.format(temp, min(temp)))\n",
    "        results.append(min(temp))\n",
    "#     print(results)\n",
    "    return results[c]\n",
    "\n",
    "change(7)\n",
    "        "
   ]
  },
  {
   "cell_type": "code",
   "execution_count": 122,
   "metadata": {
    "collapsed": false
   },
   "outputs": [
    {
     "data": {
      "text/plain": [
       "2"
      ]
     },
     "execution_count": 122,
     "metadata": {},
     "output_type": "execute_result"
    }
   ],
   "source": [
    "def change(c):\n",
    "    results = [0] + [float('inf')] * c\n",
    "    for i in range(1, c + 1):\n",
    "        for d in ds:\n",
    "            if d <= c:\n",
    "                if i >= d:\n",
    "                    if 1 + results[i - d] < results[i]:\n",
    "                        results[i] = 1 + results[i - d]\n",
    "    return results[c]\n",
    "\n",
    "change(4)"
   ]
  },
  {
   "cell_type": "markdown",
   "metadata": {},
   "source": [
    "Coin Change Problem - Recursive Solution with Memorization\n",
    "\n",
    "Min Coins"
   ]
  },
  {
   "cell_type": "code",
   "execution_count": 125,
   "metadata": {
    "collapsed": false
   },
   "outputs": [
    {
     "data": {
      "text/plain": [
       "2"
      ]
     },
     "execution_count": 125,
     "metadata": {},
     "output_type": "execute_result"
    }
   ],
   "source": [
    "def change(c):\n",
    "    if c in ds:\n",
    "        return 1\n",
    "    temp = []\n",
    "    for d in ds:\n",
    "        if c > d:\n",
    "            temp.append(calculateOrGet(c - d))\n",
    "    return 1 + min(temp)\n",
    "\n",
    "change(10)"
   ]
  },
  {
   "cell_type": "code",
   "execution_count": 36,
   "metadata": {
    "collapsed": false
   },
   "outputs": [
    {
     "data": {
      "text/plain": [
       "2"
      ]
     },
     "execution_count": 36,
     "metadata": {},
     "output_type": "execute_result"
    }
   ],
   "source": [
    "memory = {}\n",
    "\n",
    "def calculateOrGet(n):\n",
    "    if n not in memory:\n",
    "        memory[n] = change(n)\n",
    "    return memory[n]\n",
    "\n",
    "def change(c):\n",
    "    if c in ds:\n",
    "        return 1\n",
    "    temp = []\n",
    "    for d in ds:\n",
    "        if c > d:\n",
    "            temp.append(calculateOrGet(c - d))\n",
    "    return 1 + min(temp)\n",
    "\n",
    "change(10)"
   ]
  },
  {
   "cell_type": "code",
   "execution_count": 124,
   "metadata": {
    "collapsed": false
   },
   "outputs": [
    {
     "data": {
      "text/plain": [
       "2"
      ]
     },
     "execution_count": 124,
     "metadata": {},
     "output_type": "execute_result"
    }
   ],
   "source": [
    "def change(c):\n",
    "    if c == 0:\n",
    "        return 0\n",
    "    m = float('inf')\n",
    "    for d in ds:\n",
    "        if d <= c:\n",
    "            if change(c - d) + 1 < m:\n",
    "                m = change(c - d) + 1\n",
    "    return m\n",
    "\n",
    "change(4)"
   ]
  },
  {
   "cell_type": "code",
   "execution_count": 148,
   "metadata": {
    "collapsed": false
   },
   "outputs": [
    {
     "data": {
      "text/plain": [
       "1"
      ]
     },
     "execution_count": 148,
     "metadata": {},
     "output_type": "execute_result"
    }
   ],
   "source": [
    "memory = {}\n",
    "\n",
    "def calculateOrGet(n):\n",
    "    if n not in memory:\n",
    "        memory[n] = change(n)\n",
    "    return memory[n]\n",
    "\n",
    "def change(c):\n",
    "    if c == 0:\n",
    "        return 0\n",
    "    m = float('inf')\n",
    "    for d in ds:\n",
    "        if d <= c:\n",
    "            if calculateOrGet(c - d) + 1 < m:\n",
    "                m = calculateOrGet(c - d) + 1\n",
    "    return m\n",
    "\n",
    "change(5)"
   ]
  },
  {
   "cell_type": "markdown",
   "metadata": {},
   "source": [
    "Number of ways to change"
   ]
  },
  {
   "cell_type": "code",
   "execution_count": 147,
   "metadata": {
    "collapsed": false
   },
   "outputs": [
    {
     "name": "stdout",
     "output_type": "stream",
     "text": [
      "1\n",
      "2\n"
     ]
    }
   ],
   "source": [
    "def nwc(n):\n",
    "    if n == 0:\n",
    "        return 0\n",
    "    m = 0\n",
    "    for d in ds:\n",
    "        if d <= n:\n",
    "            i = 0\n",
    "            while (i < d * i <= n):\n",
    "                print(' {}'.format(i))\n",
    "                if ()\n",
    "                i += 1\n",
    "            \n",
    "nwc(3)"
   ]
  },
  {
   "cell_type": "markdown",
   "metadata": {},
   "source": [
    "Longest Common Subsequence"
   ]
  },
  {
   "cell_type": "code",
   "execution_count": 143,
   "metadata": {
    "collapsed": false
   },
   "outputs": [
    {
     "name": "stdout",
     "output_type": "stream",
     "text": [
      "      a  b  c  d  a  f\n",
      "  [0, 0, 0, 0, 0, 0, 0]\n",
      "a [0, 1, 1, 1, 1, 2, 2]\n",
      "c [0, 1, 1, 2, 2, 2, 2]\n",
      "b [0, 1, 2, 2, 2, 2, 2]\n",
      "c [0, 1, 2, 3, 3, 3, 3]\n",
      "f [0, 1, 2, 3, 3, 3, 4]\n"
     ]
    }
   ],
   "source": [
    "a = 'abcdaf'\n",
    "b = 'acbcf'\n",
    "\n",
    "def lcs(a, b):\n",
    "    result = []\n",
    "    for i in range(0, len(b) + 1):\n",
    "        if i == 0:\n",
    "            result.append([0] * (len(a) + 1))\n",
    "        else:\n",
    "            result.append([0])\n",
    "            for j in range(1, len(a) + 1):\n",
    "                result[i].append(max(result[i][j - 1], result[i - 1][j]) + (1 if b[i - 1] == a[j - 1] else 0))\n",
    "    return result\n",
    "result = lcs(a, b)\n",
    "\n",
    "# visualize\n",
    "print('      {}'.format('  '.join(a)))\n",
    "for i in range(0, len(result)):\n",
    "    if i == 0:\n",
    "        print('  {}'.format(result[i]))\n",
    "    else:\n",
    "        print('{} {}'.format(b[i - 1], result[i]))"
   ]
  },
  {
   "cell_type": "code",
   "execution_count": 68,
   "metadata": {
    "collapsed": false,
    "scrolled": true
   },
   "outputs": [
    {
     "name": "stdout",
     "output_type": "stream",
     "text": [
      "22\n"
     ]
    }
   ],
   "source": [
    "a = 0\n",
    "def fib(n):\n",
    "    global a\n",
    "    if n == 1 or n == 2:\n",
    "        a += 1\n",
    "        return 1\n",
    "    a += 2\n",
    "    return fib(n - 2) + fib(n - 1)\n",
    "\n",
    "fib(6)\n",
    "print(a)"
   ]
  },
  {
   "cell_type": "code",
   "execution_count": null,
   "metadata": {
    "collapsed": true
   },
   "outputs": [],
   "source": []
  }
 ],
 "metadata": {
  "kernelspec": {
   "display_name": "Python 3",
   "language": "python",
   "name": "python3"
  },
  "language_info": {
   "codemirror_mode": {
    "name": "ipython",
    "version": 3
   },
   "file_extension": ".py",
   "mimetype": "text/x-python",
   "name": "python",
   "nbconvert_exporter": "python",
   "pygments_lexer": "ipython3",
   "version": "3.6.0"
  }
 },
 "nbformat": 4,
 "nbformat_minor": 2
}
