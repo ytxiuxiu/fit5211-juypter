{
 "cells": [
  {
   "cell_type": "code",
   "execution_count": 22,
   "metadata": {
    "collapsed": false
   },
   "outputs": [
    {
     "name": "stdout",
     "output_type": "stream",
     "text": [
      "[(5, 'C', 'E'), (5, 'D', 'A'), (6, 'F', 'D'), (7, 'A', 'B'), (7, 'E', 'B'), (8, 'B', 'C'), (8, 'E', 'F'), (9, 'B', 'D'), (9, 'G', 'E'), (11, 'G', 'F'), (15, 'E', 'D')]\n",
      "union C E\n",
      "{'A': 'A', 'B': 'B', 'C': 'E', 'D': 'D', 'E': 'E', 'F': 'F', 'G': 'G'}\n",
      "{'A': 0, 'B': 0, 'C': 0, 'D': 0, 'E': 1, 'F': 0, 'G': 0}\n",
      "union D A\n",
      "{'A': 'A', 'B': 'B', 'C': 'E', 'D': 'A', 'E': 'E', 'F': 'F', 'G': 'G'}\n",
      "{'A': 1, 'B': 0, 'C': 0, 'D': 0, 'E': 1, 'F': 0, 'G': 0}\n",
      "union F D\n",
      "{'A': 'F', 'B': 'B', 'C': 'E', 'D': 'A', 'E': 'E', 'F': 'F', 'G': 'G'}\n",
      "{'A': 1, 'B': 0, 'C': 0, 'D': 0, 'E': 1, 'F': 0, 'G': 0}\n",
      "union A B\n",
      "{'A': 'F', 'B': 'B', 'C': 'E', 'D': 'A', 'E': 'E', 'F': 'B', 'G': 'G'}\n",
      "{'A': 1, 'B': 1, 'C': 0, 'D': 0, 'E': 1, 'F': 0, 'G': 0}\n",
      "union E B\n",
      "{'A': 'F', 'B': 'B', 'C': 'E', 'D': 'A', 'E': 'B', 'F': 'B', 'G': 'G'}\n",
      "{'A': 1, 'B': 2, 'C': 0, 'D': 0, 'E': 1, 'F': 0, 'G': 0}\n",
      "union G E\n",
      "{'A': 'B', 'B': 'G', 'C': 'B', 'D': 'B', 'E': 'B', 'F': 'B', 'G': 'G'}\n",
      "{'A': 1, 'B': 2, 'C': 0, 'D': 0, 'E': 1, 'F': 0, 'G': 0}\n"
     ]
    },
    {
     "data": {
      "text/plain": [
       "{'edges': {(5, 'C', 'E'),\n",
       "  (5, 'D', 'A'),\n",
       "  (6, 'F', 'D'),\n",
       "  (7, 'A', 'B'),\n",
       "  (7, 'E', 'B'),\n",
       "  (9, 'G', 'E')},\n",
       " 'vertices': ['A', 'B', 'C', 'D', 'E', 'F', 'G']}"
      ]
     },
     "execution_count": 22,
     "metadata": {},
     "output_type": "execute_result"
    }
   ],
   "source": [
    "parent = dict()\n",
    "rank = dict()\n",
    "\n",
    "def make_set(x):\n",
    "    parent[x] = x\n",
    "    rank[x] = 0\n",
    "\n",
    "def find(x):\n",
    "    if x != parent[x]:\n",
    "        parent[x] = find(parent[x])\n",
    "    return parent[x]\n",
    "\n",
    "def union(x, y):\n",
    "    a = find(x)\n",
    "    b = find(y)\n",
    "    if rank[a] < rank[b]:\n",
    "        parent[b] = a\n",
    "#         rank[a] = rank[b] + 1\n",
    "    else:\n",
    "        parent[a] = b\n",
    "        if rank[a] == rank[b]:\n",
    "            rank[b] += 1\n",
    "    print(\"union\", x, y)\n",
    "    print(parent)\n",
    "    print(rank)\n",
    "\n",
    "def kruskal(graph):\n",
    "    E = sorted(graph[\"edges\"])\n",
    "    print(E)\n",
    "    F = {\n",
    "        'vertices': graph['vertices'],\n",
    "        'edges': set([])\n",
    "    }\n",
    "    for v in graph['vertices']:\n",
    "        make_set(v)\n",
    "    for i in range(0, len(E)):\n",
    "        w, u, v = E[i]\n",
    "        if find(u) != find(v):\n",
    "            union(u, v)\n",
    "            F['edges'].add((w, u, v))\n",
    "            \n",
    "    return F\n",
    "\n",
    "# Test Undirected Graph \n",
    "graph = {\n",
    "'vertices': ['A', 'B', 'C', 'D', 'E', 'F', 'G'],\n",
    "'edges': set([\n",
    "(7, 'A', 'B'),\n",
    "(8, 'B', 'C'),\n",
    "(9, 'B', 'D'),\n",
    "(5, 'C', 'E'),\n",
    "(5, 'D', 'A'),\n",
    "(7, 'E', 'B'),\n",
    "(15, 'E', 'D'),\n",
    "(8, 'E', 'F'),\n",
    "(6, 'F', 'D'),\n",
    "(9, 'G', 'E'),\n",
    "(11, 'G', 'F'),\n",
    "])\n",
    "}\n",
    "\n",
    "# graph = {\n",
    "# 'vertices': ['A', 'B', 'C', 'D', 'E', 'F', 'G', 'H', 'K'],\n",
    "# 'edges': set([\n",
    "# (1, 'E', 'F'),\n",
    "# (2, 'A', 'D'),\n",
    "# (2, 'H', 'K'),\n",
    "# (3, 'B', 'D'),\n",
    "# (3, 'C', 'F'),\n",
    "# (3, 'E', 'H'),\n",
    "# (4, 'B', 'C'),\n",
    "# (4, 'F', 'H'),\n",
    "# (4, 'F', 'K'),\n",
    "# (4, 'G', 'H'),\n",
    "# (5, 'A', 'B'),\n",
    "# (5, 'B', 'F'),\n",
    "# (5, 'B', 'E'),\n",
    "# (6, 'D', 'G'),\n",
    "# (7, 'D', 'E'),\n",
    "# (8, 'D', 'H')\n",
    "# ])\n",
    "# }\n",
    "\n",
    "#Display Minimum Cost Spanning Tree\n",
    "kruskal(graph)"
   ]
  },
  {
   "cell_type": "code",
   "execution_count": null,
   "metadata": {
    "collapsed": true
   },
   "outputs": [],
   "source": [
    "{'A': 'B', 'B': 'B', 'C': 'B', 'D': 'B', 'E': 'B', 'F': 'B', 'G': 'B'}\n",
    "{'A': 1, 'B': 1, 'C': 0, 'D': 0, 'E': 1, 'F': 2, 'G': 0}"
   ]
  }
 ],
 "metadata": {
  "kernelspec": {
   "display_name": "Python 3",
   "language": "python",
   "name": "python3"
  },
  "language_info": {
   "codemirror_mode": {
    "name": "ipython",
    "version": 3
   },
   "file_extension": ".py",
   "mimetype": "text/x-python",
   "name": "python",
   "nbconvert_exporter": "python",
   "pygments_lexer": "ipython3",
   "version": "3.6.0"
  }
 },
 "nbformat": 4,
 "nbformat_minor": 2
}
