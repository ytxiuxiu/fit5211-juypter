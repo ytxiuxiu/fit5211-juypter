{
 "cells": [
  {
   "cell_type": "code",
   "execution_count": 49,
   "metadata": {
    "collapsed": true,
    "deletable": true,
    "editable": true
   },
   "outputs": [],
   "source": [
    "class List:\n",
    "    \n",
    "    def __init__(self, init=[]):\n",
    "        self.contents = init    \n",
    "\n",
    "    def cons(self, elem):\n",
    "        return List(init=[elem]+self.contents)\n",
    "        \n",
    "    def first(self):\n",
    "        return self.contents[0]\n",
    "    \n",
    "    def rest(self):\n",
    "        return List(self.contents[1:])\n",
    "    \n",
    "    def is_empty(self):\n",
    "        return self.contents == []\n",
    "    \n",
    "    def length(self):\n",
    "        if self.is_empty():\n",
    "            return 0\n",
    "        else: \n",
    "            return 1+self.rest().length()\n",
    "    \n",
    "    def find(self, x):\n",
    "        if self.is_empty():\n",
    "            return False\n",
    "        else: \n",
    "            return self.first()==x or self.rest().find(x)  \n",
    "        \n",
    "    def list_max(self):\n",
    "        if self.length()==1:\n",
    "            return self.first()\n",
    "        else:\n",
    "            return max(self.first(),self.rest().list_max())\n",
    "        \n",
    "    def total(self):\n",
    "        if self.is_empty():\n",
    "            return 0\n",
    "        else:\n",
    "            return self.first()+self.rest().total()\n",
    "\n",
    "    def last(self):\n",
    "        if self.length()==0:\n",
    "            return None\n",
    "        if self.length()==1:\n",
    "            return self.first()\n",
    "        else:\n",
    "            return self.rest().last()\n",
    "        \n",
    "    "
   ]
  },
  {
   "cell_type": "code",
   "execution_count": 2,
   "metadata": {
    "collapsed": true,
    "deletable": true,
    "editable": true
   },
   "outputs": [],
   "source": [
    "a=List([1,3,4,5,62,8])"
   ]
  },
  {
   "cell_type": "code",
   "execution_count": 3,
   "metadata": {
    "collapsed": true,
    "deletable": true,
    "editable": true
   },
   "outputs": [],
   "source": [
    "b=List([0,4,3,7,6,3,333,666,777])"
   ]
  },
  {
   "cell_type": "code",
   "execution_count": 4,
   "metadata": {
    "collapsed": false,
    "deletable": true,
    "editable": true
   },
   "outputs": [
    {
     "data": {
      "text/plain": [
       "True"
      ]
     },
     "execution_count": 4,
     "metadata": {},
     "output_type": "execute_result"
    }
   ],
   "source": [
    "a.find(4)"
   ]
  },
  {
   "cell_type": "code",
   "execution_count": 5,
   "metadata": {
    "collapsed": false,
    "deletable": true,
    "editable": true
   },
   "outputs": [
    {
     "data": {
      "text/plain": [
       "6"
      ]
     },
     "execution_count": 5,
     "metadata": {},
     "output_type": "execute_result"
    }
   ],
   "source": [
    "a.length()"
   ]
  },
  {
   "cell_type": "code",
   "execution_count": 6,
   "metadata": {
    "collapsed": false,
    "deletable": true,
    "editable": true
   },
   "outputs": [
    {
     "data": {
      "text/plain": [
       "8"
      ]
     },
     "execution_count": 6,
     "metadata": {},
     "output_type": "execute_result"
    }
   ],
   "source": [
    "a.last()"
   ]
  },
  {
   "cell_type": "code",
   "execution_count": 51,
   "metadata": {
    "collapsed": false,
    "deletable": true,
    "editable": true
   },
   "outputs": [
    {
     "name": "stdout",
     "output_type": "stream",
     "text": [
      "[1, 5, 7, 4, 9, 3]\n"
     ]
    }
   ],
   "source": [
    "def zip(x, y):\n",
    "    if x.is_empty():\n",
    "        return x\n",
    "    if y.is_empty():\n",
    "        return y\n",
    "    else:\n",
    "        return zip(x.rest(), y.rest()).cons(y.first()).cons(x.first())\n",
    "\n",
    "print(zip(List([1, 7, 9]), List([5, 4, 3])).contents)"
   ]
  },
  {
   "cell_type": "code",
   "execution_count": 52,
   "metadata": {
    "collapsed": false,
    "deletable": true,
    "editable": true
   },
   "outputs": [
    {
     "name": "stdout",
     "output_type": "stream",
     "text": [
      "[1, 3, 4, 5, 7, 9]\n"
     ]
    }
   ],
   "source": [
    "def merge(x, y):\n",
    "    if x.is_empty():\n",
    "        return y\n",
    "    if y.is_empty():\n",
    "        return x\n",
    "    \n",
    "    if x.first() <= y.first():\n",
    "        return merge(x.rest(), y).cons(x.first())\n",
    "    else:\n",
    "        return merge(x, y.rest()).cons(y.first())\n",
    "        \n",
    "        \n",
    "print(merge(List([1, 7, 9]), List([3, 4, 5])).contents)"
   ]
  },
  {
   "cell_type": "code",
   "execution_count": null,
   "metadata": {
    "collapsed": true,
    "deletable": true,
    "editable": true
   },
   "outputs": [],
   "source": []
  },
  {
   "cell_type": "code",
   "execution_count": 49,
   "metadata": {
    "collapsed": false,
    "deletable": true,
    "editable": true
   },
   "outputs": [],
   "source": [
    "class TupleList:\n",
    "    \n",
    "    def __init__(self, init=()):\n",
    "        self.contents = init\n",
    "        \n",
    "    def cons(self, elem):\n",
    "        return TupleList((elem, self.contents))\n",
    "    \n",
    "    def first(self):\n",
    "        return self.contents[0]\n",
    "    \n",
    "    def rest(self):\n",
    "        return TupleList(self.contents[1])\n",
    "    \n",
    "    def is_empty(self):\n",
    "        return self.contents == ()\n",
    "    \n",
    "    def length(self):\n",
    "        l = 0\n",
    "        content = self.contents\n",
    "        while content != ():\n",
    "            content = content[1]\n",
    "            l = l + 1\n",
    "        return l\n",
    "\n",
    "    def find(self, x):\n",
    "        if self.is_empty():\n",
    "            return False\n",
    "        else: \n",
    "            return self.first()==x or self.rest().find(x)  \n",
    "        \n",
    "#     def append(self, elem):\n",
    "#         content = self.contents\n",
    "        \n",
    "#         while content != ():\n",
    "#             print('content', content[0])\n",
    "#             content = content[1]\n",
    "            \n",
    "#             if content == ():\n",
    "#                 content = (elem, ())\n",
    "#                 break\n",
    "#         return TupleList(self.contents)\n",
    "        \n",
    "    def list_max(self):\n",
    "        if self.length()==1:\n",
    "            return self.first()\n",
    "        else:\n",
    "            return max(self.first(),self.rest().list_max())\n",
    "        \n",
    "    def total(self):\n",
    "        if self.is_empty():\n",
    "            return 0\n",
    "        else:\n",
    "            return self.first()+self.rest().total()\n",
    "\n",
    "    def last(self):\n",
    "        if self.length()==0:\n",
    "            return None\n",
    "        if self.length()==1:\n",
    "            return self.first()\n",
    "        else:\n",
    "            return self.rest().last()\n",
    "        \n",
    "    def merge(this, y):\n",
    "        if this.is_empty():\n",
    "            return y\n",
    "        if y.is_empty():\n",
    "            return this\n",
    "\n",
    "        if this.first() <= y.first():\n",
    "            return this.rest().merge(y).cons(this.first())\n",
    "        else:\n",
    "            return this.merge(y.rest()).cons(y.first())\n",
    "        \n",
    "#     def slice(self, from, to):\n",
    "#         l = self.length() - 1\n",
    "#         result = ()\n",
    "#         content = self.contents\n",
    "#         while content != ():\n",
    "#             content = content[1]\n",
    "#             if l >= from and l < to:\n",
    "#                 result\n",
    "#             l = l + 1\n",
    "#         return l\n",
    "        \n",
    "#     def merge_sort(self):\n",
    "#         if self.length() <= 1:\n",
    "#             return self\n",
    "        \n",
    "#         mid = self.length() // 2\n",
    "        \n",
    "#         first_half = List(self.contents[:mid])\n",
    "#         last_half = List(self.contents[mid:])\n",
    "        \n",
    "#         return first_half.merge_sort().merge(last_half.merge_sort())"
   ]
  },
  {
   "cell_type": "code",
   "execution_count": 50,
   "metadata": {
    "collapsed": false
   },
   "outputs": [
    {
     "name": "stdout",
     "output_type": "stream",
     "text": [
      "(1, (5, (6, (7, (9, ())))))\n",
      "(3, (1, (5, (6, (7, (9, ()))))))\n",
      "1\n",
      "(5, (6, (7, (9, ()))))\n",
      "9\n",
      "False\n",
      "True\n",
      "5\n",
      "0\n",
      "True\n",
      "False\n",
      "9\n",
      "28\n",
      "9\n",
      "content 1\n",
      "content 5\n",
      "content 6\n",
      "content 7\n",
      "content 9\n",
      "(1, (5, (6, (7, (9, ())))))\n",
      "(0, (1, (2, (3, (5, (6, (7, (9, ()))))))))\n"
     ]
    }
   ],
   "source": [
    "l = TupleList((1,(5,(6,(7,(9,()))))))\n",
    "print(l.contents)\n",
    "print(l.cons(3).contents)\n",
    "print(l.first())\n",
    "print(l.rest().contents)\n",
    "print(l.last())\n",
    "print(l.is_empty())\n",
    "print(TupleList(()).is_empty())\n",
    "print(l.length())\n",
    "print(TupleList(()).length())\n",
    "print(l.find(1))\n",
    "print(l.find(0))\n",
    "print(l.list_max())\n",
    "print(l.total())\n",
    "print(l.last())\n",
    "print(l.append(3).contents)\n",
    "\n",
    "y = TupleList((0,(2,(3,()))))\n",
    "print(l.merge(y).contents)\n",
    "\n",
    "ul = TupleList((7,(9,(3,(0,(4,(8,(2,(5,())))))))))\n",
    "#print(ul.merge_sort().contents)"
   ]
  },
  {
   "cell_type": "code",
   "execution_count": null,
   "metadata": {
    "collapsed": true
   },
   "outputs": [],
   "source": []
  }
 ],
 "metadata": {
  "kernelspec": {
   "display_name": "Python 3",
   "language": "python",
   "name": "python3"
  },
  "language_info": {
   "codemirror_mode": {
    "name": "ipython",
    "version": 3
   },
   "file_extension": ".py",
   "mimetype": "text/x-python",
   "name": "python",
   "nbconvert_exporter": "python",
   "pygments_lexer": "ipython3",
   "version": "3.6.0"
  }
 },
 "nbformat": 4,
 "nbformat_minor": 0
}
