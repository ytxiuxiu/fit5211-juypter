{
 "cells": [
  {
   "cell_type": "code",
   "execution_count": 51,
   "metadata": {
    "collapsed": false
   },
   "outputs": [],
   "source": [
    "class List:\n",
    "    \n",
    "    def __init__(self, init=[]):\n",
    "        self.contents = init    \n",
    "\n",
    "    def cons(self, elem):\n",
    "        return List(init=[elem]+self.contents)\n",
    "        \n",
    "    def first(self):\n",
    "        return self.contents[0]\n",
    "    \n",
    "    def rest(self):\n",
    "        return List(self.contents[1:])\n",
    "    \n",
    "    def is_empty(self):\n",
    "        return self.contents == []\n",
    "    \n",
    "    def length(self):\n",
    "        if self.is_empty():\n",
    "            return 0\n",
    "        else: \n",
    "            return 1+self.rest().length()\n",
    "    \n",
    "    def find(self, x):\n",
    "        if self.is_empty():\n",
    "            return False\n",
    "        else: \n",
    "            return self.first()==x or self.rest().find(x)  \n",
    "        \n",
    "    def list_max(self):\n",
    "        if self.length()==1:\n",
    "            return self.first()\n",
    "        else:\n",
    "            return max(self.first(),self.rest().list_max())\n",
    "        \n",
    "    def total(self):\n",
    "        if self.is_empty():\n",
    "            return 0\n",
    "        else:\n",
    "            return self.first()+self.rest().total()\n",
    "\n",
    "    def last(self):\n",
    "        if self.length()==0:\n",
    "            return None\n",
    "        if self.length()==1:\n",
    "            return self.first()\n",
    "        else:\n",
    "            return self.rest().last()\n",
    "        \n",
    "    def merge(this, y):\n",
    "        if this.is_empty():\n",
    "            return y\n",
    "        if y.is_empty():\n",
    "            return this\n",
    "\n",
    "        if this.first() <= y.first():\n",
    "            return this.rest().merge(y).cons(this.first())\n",
    "        else:\n",
    "            return this.merge(y.rest()).cons(y.first())\n",
    "        \n",
    "    def merge_sort(self):\n",
    "        if self.length() <= 1:\n",
    "            return self\n",
    "        \n",
    "        mid = self.length() // 2\n",
    "        first_half = List(self.contents[:mid])\n",
    "        last_half = List(self.contents[mid:])\n",
    "        return first_half.merge_sort().merge(last_half.merge_sort())\n",
    "        "
   ]
  },
  {
   "cell_type": "code",
   "execution_count": 52,
   "metadata": {
    "collapsed": false
   },
   "outputs": [
    {
     "data": {
      "text/plain": [
       "[1, 2, 3, 4, 5, 6, 7, 8, 9]"
      ]
     },
     "execution_count": 52,
     "metadata": {},
     "output_type": "execute_result"
    }
   ],
   "source": [
    "l = List([1, 7, 4, 9, 3, 5, 2, 6, 8])\n",
    "l.merge_sort().contents"
   ]
  },
  {
   "cell_type": "code",
   "execution_count": null,
   "metadata": {
    "collapsed": true
   },
   "outputs": [],
   "source": []
  }
 ],
 "metadata": {
  "kernelspec": {
   "display_name": "Python 3",
   "language": "python",
   "name": "python3"
  },
  "language_info": {
   "codemirror_mode": {
    "name": "ipython",
    "version": 3
   },
   "file_extension": ".py",
   "mimetype": "text/x-python",
   "name": "python",
   "nbconvert_exporter": "python",
   "pygments_lexer": "ipython3",
   "version": "3.6.0"
  }
 },
 "nbformat": 4,
 "nbformat_minor": 2
}
